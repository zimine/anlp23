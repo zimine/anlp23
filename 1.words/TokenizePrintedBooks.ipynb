{
 "cells": [
  {
   "cell_type": "markdown",
   "metadata": {},
   "source": [
    "OCR'd texts present special challenges to tokenization.  Consider this selection from an OCR'd version of Darwin's Origin of Species from the [Internet Archive](https://archive.org/download/originofspecies00darwuoft/originofspecies00darwuoft_djvu.txt):\n",
    "\n",
    "```\n",
    "the inhabitants of the surrounding districts will, also, be thus\n",
    "prevented. Moritz Wagner has lately published an interest-\n",
    "ing essay on this subject, and has shown that the service\n",
    "rendered by isolation in preventing crosses between newly-\n",
    "formed varieties is probably greater even than I supposed.\n",
    "But from reasons already assigned I can by no means agree\n",
    "with this naturalist, that migration and isolation are neces-\n",
    "sary elements for the formation of new species. The im-\n",
    "portance of isolation is likewise great in preventing, after\n",
    "any physical change in the conditions such as of climate ele-\n",
    "vation of the land, &c., the immigration of better adapted or-\n",
    "ganisms; and thus new places in the natural economy of the\n",
    "district will be left open to be filled up by the modification of\n",
    "the old inhabitants. Lastly, isolation will give time for a\n",
    "new variety to be improved at a slow rate ; and this may\n",
    "```\n",
    "\n",
    "Here the printing convention of line-break hyphenization would, under a standard tokenizer, generate incorrect tokens like `interest-ing` (or perhaps `interest-` and `ing`).  Design a better tokenizer (even just using pre- and post-processing) for these texts.  Note here the correct tokenization of `interest-ing` is `interesting` but the correct tokenization for `newly-formed` is still `newly-formed`.\n",
    "\n",
    "For a more thorough library for handling OCR'd book data, see https://github.com/tedunderwood/DataMunging\n"
   ]
  },
  {
   "cell_type": "code",
   "execution_count": 1,
   "metadata": {},
   "outputs": [],
   "source": [
    "import sys, nltk, re"
   ]
  },
  {
   "cell_type": "code",
   "execution_count": 6,
   "metadata": {},
   "outputs": [],
   "source": [
    "def read_text(filename):\n",
    "    lines=[]\n",
    "    with open(filename, encoding=\"utf-8\") as file:\n",
    "        for line in file:\n",
    "            lines.append(line.rstrip())\n",
    "    return lines        "
   ]
  },
  {
   "cell_type": "code",
   "execution_count": 7,
   "metadata": {},
   "outputs": [],
   "source": [
    "filename=\"../data/darwin_origin_ia.txt\""
   ]
  },
  {
   "cell_type": "code",
   "execution_count": 8,
   "metadata": {},
   "outputs": [],
   "source": [
    "lines=read_text(filename)"
   ]
  },
  {
   "cell_type": "code",
   "execution_count": 9,
   "metadata": {},
   "outputs": [],
   "source": [
    "testText=\"\"\"the inhabitants of the surrounding districts will, also, be thus\n",
    "prevented. Moritz Wagner has lately published an interest-\n",
    "ing essay on this subject, and has shown that the service\n",
    "rendered by isolation in preventing crosses between newly-\n",
    "formed varieties is probably greater even than I supposed.\n",
    "But from reasons already assigned I can by no means agree\n",
    "with this naturalist, that migration and isolation are neces-\n",
    "sary elements for the formation of new species. The im-\n",
    "portance of isolation is likewise great in preventing, after\n",
    "any physical change in the conditions such as of climate ele-\n",
    "vation of the land, &c., the immigration of better adapted or-\n",
    "ganisms; and thus new places in the natural economy of the\n",
    "district will be left open to be filled up by the modification of\n",
    "the old inhabitants. Lastly, isolation will give time for a\n",
    "new variety to be improved at a slow rate ; and this may\"\"\""
   ]
  },
  {
   "cell_type": "code",
   "execution_count": 10,
   "metadata": {},
   "outputs": [],
   "source": [
    "# To distinguish between words that are hyphenated *just* because they appear at the end of the line\n",
    "# from those that *should* be hyphenated, let's lookup the dehyphenated word in a dictionary to see \n",
    "# if it exists.  We'll create that dictionary from an existing one (e.g., /usr/share/dict/words) and\n",
    "# with all of the other (non-hyphenated) terms observed in the book\n",
    "\n",
    "vocab={}\n",
    "\n",
    "with open(\"/usr/share/dict/words\") as file:\n",
    "    for line in file:\n",
    "        vocab[line.rstrip().lower()]=1\n",
    "        \n",
    "for line in lines:\n",
    "    words=nltk.word_tokenize(line, language=\"english\")\n",
    "    for word in words:\n",
    "        if not word.endswith(\"-\"):\n",
    "            vocab[word.lower()]=1"
   ]
  },
  {
   "cell_type": "code",
   "execution_count": 11,
   "metadata": {},
   "outputs": [
    {
     "name": "stdout",
     "output_type": "stream",
     "text": [
      "Tokenized:\n",
      "\n",
      "the inhabitants of the surrounding districts will , also , be thus\n",
      "prevented . Moritz Wagner has lately published an interesting\n",
      "essay on this subject , and has shown that the service\n",
      "rendered by isolation in preventing crosses between newly-\n",
      "formed varieties is probably greater even than I supposed .\n",
      "But from reasons already assigned I can by no means agree\n",
      "with this naturalist , that migration and isolation are necessary\n",
      "elements for the formation of new species . The importance\n",
      "of isolation is likewise great in preventing , after\n",
      "any physical change in the conditions such as of climate elevation\n",
      "of the land , & c. , the immigration of better adapted organisms\n",
      "; and thus new places in the natural economy of the\n",
      "district will be left open to be filled up by the modification of\n",
      "the old inhabitants . Lastly , isolation will give time for a\n",
      "new variety to be improved at a slow rate ; and this may\n",
      "\n",
      "Original:\n",
      "\n",
      "the inhabitants of the surrounding districts will, also, be thus\n",
      "prevented. Moritz Wagner has lately published an interest-\n",
      "ing essay on this subject, and has shown that the service\n",
      "rendered by isolation in preventing crosses between newly-\n",
      "formed varieties is probably greater even than I supposed.\n",
      "But from reasons already assigned I can by no means agree\n",
      "with this naturalist, that migration and isolation are neces-\n",
      "sary elements for the formation of new species. The im-\n",
      "portance of isolation is likewise great in preventing, after\n",
      "any physical change in the conditions such as of climate ele-\n",
      "vation of the land, &c., the immigration of better adapted or-\n",
      "ganisms; and thus new places in the natural economy of the\n",
      "district will be left open to be filled up by the modification of\n",
      "the old inhabitants. Lastly, isolation will give time for a\n",
      "new variety to be improved at a slow rate ; and this may\n"
     ]
    }
   ],
   "source": [
    "# Tokenize text passage\n",
    "lines=testText.split(\"\\n\")\n",
    "tokenized_lines=[]\n",
    "for line in lines:\n",
    "    tok_words=nltk.word_tokenize(line, language=\"english\")\n",
    "    tokenized_lines.append(tok_words)\n",
    "    \n",
    "tokens=[]\n",
    "previousLineHyphenMatch=False\n",
    "\n",
    "for idx,words in enumerate(tokenized_lines):\n",
    "    flag=False\n",
    "    \n",
    "    # if line ends in hyphen\n",
    "    if len(words) > 0 and words[-1].endswith(\"-\") and idx < len(tokenized_lines)-1:\n",
    "        nextwords=tokenized_lines[idx+1]\n",
    "        if len(nextwords) > 0:\n",
    "            first=nextwords[0]\n",
    "            candidate=\"%s%s\" % (re.sub(\"-$\", \"\", words[-1]), first)\n",
    "            \n",
    "            # check if candidate word exists in dictionary\n",
    "            if candidate.lower() in vocab:\n",
    "                # if so, replace the fragment with the full word\n",
    "                words[-1]=candidate\n",
    "                \n",
    "                # and keep a flag to we know to drop the first word of the next line\n",
    "                flag=True\n",
    "           \n",
    "    if previousLineHyphenMatch:\n",
    "        tokens.append(words[1:])\n",
    "    else:\n",
    "        tokens.append(words)\n",
    "    \n",
    "    previousLineHyphenMatch = True if flag else False\n",
    "\n",
    "    \n",
    "print(\"Tokenized:\\n\")\n",
    "for line in tokens:\n",
    "    print(' '.join(line))\n",
    "print(\"\\nOriginal:\\n\")\n",
    "print(testText)"
   ]
  },
  {
   "cell_type": "code",
   "execution_count": null,
   "metadata": {},
   "outputs": [],
   "source": []
  }
 ],
 "metadata": {
  "kernelspec": {
   "display_name": "Python 3 (ipykernel)",
   "language": "python",
   "name": "python3"
  },
  "language_info": {
   "codemirror_mode": {
    "name": "ipython",
    "version": 3
   },
   "file_extension": ".py",
   "mimetype": "text/x-python",
   "name": "python",
   "nbconvert_exporter": "python",
   "pygments_lexer": "ipython3",
   "version": "3.11.4"
  }
 },
 "nbformat": 4,
 "nbformat_minor": 2
}
