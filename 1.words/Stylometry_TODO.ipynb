{
 "cells": [
  {
   "cell_type": "markdown",
   "id": "73423b4a",
   "metadata": {},
   "source": [
    "Many fundamental features of authorial style can be implemented as simple functions over counts of words and sentences.  In this homework, you'll be implementing these functions to measure stylistic properties of a text.\n",
    "\n",
    "For a detailed history of many of these techniques, see Grieve 2005, \"[Quantiative Authorship Attribution: A History and Evaluation of Techniques](https://summit.sfu.ca/_flysystem/fedora/sfu_migrate/8840/etd1721.pdf)\" (note this was a master's thesis).\n",
    "\n",
    "Before working on this notebook, install seaborn:\n",
    "\n",
    "```conda install seaborn```\n",
    "\n",
    "This homework has 3 required questions (Q1-3) and one optional \"check-plus\" question (Q4) at the end.\n"
   ]
  },
  {
   "cell_type": "markdown",
   "id": "11ef7371",
   "metadata": {},
   "source": [
    "First, let's read in some works of fiction by three different authors: [Henry James](https://en.wikipedia.org/wiki/Henry_James), [Jane Austen](https://en.wikipedia.org/wiki/Jane_Austen) and [Horatio Alger](https://en.wikipedia.org/wiki/Horatio_Alger)."
   ]
  },
  {
   "cell_type": "code",
   "execution_count": 19,
   "id": "c7a82528",
   "metadata": {
    "tags": []
   },
   "outputs": [],
   "source": [
    "james=[]\n",
    "for filename in [\"../data/stylometry/208_daisy_miller_a_study.txt\", \"../data/stylometry/432_the_ambassadors.txt\", \"../data/stylometry/209_the_turn_of_the_screw.txt\"]:\n",
    "    with open(filename, encoding='utf-8') as file:\n",
    "        james.append(file.read())\n",
    "\n",
    "austen=[]\n",
    "for filename in [\"../data/stylometry/158_emma.txt\", \"../data/stylometry/105_persuasion.txt\", \"../data/stylometry/1342_pride_and_prejudice.txt\"]:\n",
    "    with open(filename, encoding='utf-8') as file:\n",
    "        austen.append(file.read())\n",
    "\n",
    "        \n",
    "alger=[]\n",
    "for filename in [\"../data/stylometry/18581_adrift_in_new_york_tom_and_florence_braving_the_world.txt\", \"../data/stylometry/5348_ragged_dick_or_street_life_in_new_york_with_the_bootblacks.txt\", \"../data/stylometry/21632_fame.txt\"]:\n",
    "    with open(filename, encoding='utf-8') as file:\n",
    "        alger.append(file.read())\n"
   ]
  },
  {
   "cell_type": "code",
   "execution_count": 20,
   "id": "de53c7aa",
   "metadata": {
    "tags": []
   },
   "outputs": [],
   "source": [
    "import nltk\n",
    "import string\n",
    "from nltk.tokenize import word_tokenize, sent_tokenize\n",
    "import numpy as np"
   ]
  },
  {
   "cell_type": "markdown",
   "id": "722e98e4",
   "metadata": {},
   "source": [
    "**Q1.** First, implement the average sentence length.  Write a function that takes a single text as input and returns the average length of sentences within it using `nltk.tokenize.word_tokenize` and `nltk.tokenize.sent_tokenize`.  The output should be a single real number.  "
   ]
  },
  {
   "cell_type": "code",
   "execution_count": 21,
   "id": "c8b2ae89",
   "metadata": {
    "tags": []
   },
   "outputs": [],
   "source": [
    "def get_avg_sentence_length(text):\n",
    "    \n",
    "    text = text.replace(\"\\n\", \" \")\n",
    "    words = [len(word_tokenize(sent)) for sent in sent_tokenize(text)]\n",
    "    avglen = np.mean(words)\n",
    "    \n",
    "    return avglen"
   ]
  },
  {
   "cell_type": "markdown",
   "id": "42afba8a",
   "metadata": {},
   "source": [
    "Test that function on texts by James, Austen and Alger (just execute this cell):"
   ]
  },
  {
   "cell_type": "code",
   "execution_count": 22,
   "id": "faa788b9",
   "metadata": {
    "tags": []
   },
   "outputs": [
    {
     "name": "stdout",
     "output_type": "stream",
     "text": [
      "James avg sentences: 23.482\n",
      "James avg sentences: 21.152\n",
      "James avg sentences: 30.821\n",
      "Austen avg sentences: 32.239\n",
      "Austen avg sentences: 26.802\n",
      "Austen avg sentences: 30.512\n",
      "Alger avg sentences: 13.641\n",
      "Alger avg sentences: 16.126\n",
      "Alger avg sentences: 14.897\n"
     ]
    }
   ],
   "source": [
    "for book in james:\n",
    "    avg_sents=get_avg_sentence_length(book)\n",
    "    print(\"James avg sentences: %.3f\" % avg_sents)\n",
    "\n",
    "for book in austen:\n",
    "    avg_sents=get_avg_sentence_length(book)\n",
    "    print(\"Austen avg sentences: %.3f\" % avg_sents)\n",
    "\n",
    "for book in alger:\n",
    "    avg_sents=get_avg_sentence_length(book)\n",
    "    print(\"Alger avg sentences: %.3f\" % avg_sents)"
   ]
  },
  {
   "cell_type": "markdown",
   "id": "b6821eff",
   "metadata": {},
   "source": [
    "string.punctuation**Q2**: Use the `nltk.word_tokenize` method to implement the type-token ratio (a measure of vocabulary diversity):\n",
    "\n",
    "$$\n",
    "\\textrm{TTR} = {\\textrm{number of distinct word types} \\over \\textrm{number of word tokens}}\n",
    "$$\n",
    "\n",
    "\n",
    "TTR is dependent on text length (intuitively, the longer a text is, the greater chance you have of a word type repeating), so this number is only comparable between documents of identical lengths.  Calculate this measure for the first 500 words of you document and report the results here. Exclude tokens that are exclusively punctuation from all counts, and calculate this measure over the lowercased version of that text.  (You can find puncutation with `string.punctuation`.)  Your `type_token_ratio` function should take a single input as argument (a text at least 500 tokens long) and output a single real number (the TTR for that text).\n"
   ]
  },
  {
   "cell_type": "code",
   "execution_count": 23,
   "id": "051358e7",
   "metadata": {
    "tags": []
   },
   "outputs": [],
   "source": [
    "def type_token_ratio(text, num_words=500):\n",
    "    \n",
    "    text = text.replace(\"\\n\", \" \").lower()\n",
    "    words = []\n",
    "    for i in word_tokenize(text):\n",
    "        if i not in string.punctuation:\n",
    "            words.append(i) \n",
    "    ttr = len(set(words[:num_words])) / len(words[:num_words])\n",
    "    \n",
    "    return ttr "
   ]
  },
  {
   "cell_type": "markdown",
   "id": "d531fc14",
   "metadata": {},
   "source": [
    "Again, test that function on texts by James, Austen and Alger (just execute this cell):"
   ]
  },
  {
   "cell_type": "code",
   "execution_count": 24,
   "id": "147b208d",
   "metadata": {
    "tags": []
   },
   "outputs": [
    {
     "name": "stdout",
     "output_type": "stream",
     "text": [
      "James avg: 0.510\n",
      "James avg: 0.520\n",
      "James avg: 0.474\n",
      "Austen avg: 0.504\n",
      "Austen avg: 0.542\n",
      "Austen avg: 0.424\n",
      "Alger avg: 0.486\n",
      "Alger avg: 0.458\n",
      "Alger avg: 0.522\n"
     ]
    }
   ],
   "source": [
    "for book in james:\n",
    "    ttr=type_token_ratio(book)\n",
    "    print(\"James avg: %.3f\" % ttr)\n",
    "\n",
    "for book in austen:\n",
    "    ttr=type_token_ratio(book)\n",
    "    print(\"Austen avg: %.3f\" % ttr)\n",
    "\n",
    "for book in alger:\n",
    "    ttr=type_token_ratio(book)\n",
    "    print(\"Alger avg: %.3f\" % ttr)\n",
    "    "
   ]
  },
  {
   "cell_type": "markdown",
   "id": "837ace5a",
   "metadata": {},
   "source": [
    "**Q3.** Finally, count up the token frequency of function words (these are determiners like \"the\", prepositions like \"in\" and conjunctions like \"and\" and \"because\").  Let's approximate \"function words\" by counting the token frequency of `nltk.corpus.stopwords`.  Here's that list:"
   ]
  },
  {
   "cell_type": "code",
   "execution_count": 25,
   "id": "958fe012",
   "metadata": {
    "tags": []
   },
   "outputs": [
    {
     "name": "stdout",
     "output_type": "stream",
     "text": [
      "179 {'we', 'so', 'wasn', 'isn', 'should', 'will', 'aren', 'these', 'who', 'them', 'that', \"shan't\", 'did', 'shouldn', 'their', 'above', 'now', 'to', 'before', \"isn't\", 'own', \"shouldn't\", 'am', 'each', 'only', 'if', 's', 're', 'our', 'here', 'whom', 'm', 'until', 'few', 'of', 'than', 'but', \"hasn't\", \"haven't\", 'most', 'further', 'the', 'my', 'in', 'ain', 'nor', 'those', 'it', 'more', 'weren', 'through', 'down', \"should've\", 'again', 'his', \"needn't\", \"don't\", 'for', 'during', 'there', 'below', 'how', 'while', 'this', 'o', \"hadn't\", 'its', 'themselves', 'were', 'because', 'some', 'do', 'where', 'all', 'such', 'as', 'under', \"you'll\", 'on', 'mightn', 'i', 'with', 'does', 'why', 'she', 'y', \"wouldn't\", 'yours', 'has', 'once', \"wasn't\", 'having', 'hadn', 'after', 'itself', 'both', 'yourselves', 've', \"mightn't\", 'hers', \"you've\", 'doing', 'been', 'when', 'theirs', \"aren't\", 'are', 'or', 'have', \"that'll\", 'off', 'you', \"you're\", 'at', 'be', 'out', 'didn', 'wouldn', 'he', 'which', 'a', 'by', 'what', 'same', 'him', 'between', 'no', 't', 'herself', 'into', 'about', 'against', 'yourself', \"she's\", \"you'd\", \"weren't\", 'ma', 'don', 'they', \"doesn't\", 'won', \"won't\", \"couldn't\", 'll', 'an', 'had', 'other', 'couldn', 'your', 'myself', 'can', 'her', 'ours', 'mustn', 'just', 'hasn', 'himself', 'haven', 'needn', 'over', 'was', \"it's\", 'being', 'doesn', 'd', 'any', 'shan', 'me', 'and', \"didn't\", 'then', 'too', 'not', 'very', 'is', 'from', 'ourselves', \"mustn't\", 'up'}\n"
     ]
    }
   ],
   "source": [
    "from nltk.corpus import stopwords\n",
    "nltk_stopwords = set(stopwords.words('english'))\n",
    "print(len(nltk_stopwords), nltk_stopwords)"
   ]
  },
  {
   "cell_type": "markdown",
   "id": "1c9a9d27",
   "metadata": {},
   "source": [
    "Write a function `count_stopword_freqs` that takes a single text as input and returns a dictionary containing frequency of each of these terms within it -- e.g.:\n",
    "\n",
    "{\"wouldn\": 0.00003, ..., \"are\": 0.0004}\n",
    "\n",
    "Frequency is simply the count of that term in the text divided by the count of all tokens in the text."
   ]
  },
  {
   "cell_type": "code",
   "execution_count": 26,
   "id": "e67118ec",
   "metadata": {
    "tags": []
   },
   "outputs": [],
   "source": [
    "def count_stopwords_freqs(book):\n",
    "    \n",
    "    book = book.replace(\"\\n\", \" \")\n",
    "    words = [] \n",
    "    for i in word_tokenize(book):\n",
    "        if i not in string.punctuation:\n",
    "            words.append(i) \n",
    "    count = len(words)\n",
    "    freq = {word: book.count(word)/count for word in nltk_stopwords}\n",
    "    \n",
    "    return freq"
   ]
  },
  {
   "cell_type": "markdown",
   "id": "ca6ba2a0",
   "metadata": {},
   "source": [
    "Again, test that function on texts by James, Austen and Alger (just execute this cell):"
   ]
  },
  {
   "cell_type": "code",
   "execution_count": 27,
   "id": "f5f458b8",
   "metadata": {
    "tags": []
   },
   "outputs": [
    {
     "name": "stdout",
     "output_type": "stream",
     "text": [
      "James 'because': 0.00025\n",
      "James 'because': 0.00042\n",
      "James 'because': 0.00017\n",
      "Austen 'because': 0.00031\n",
      "Austen 'because': 0.00029\n",
      "Austen 'because': 0.00047\n",
      "Alger 'because': 0.00022\n",
      "Alger 'because': 0.00032\n",
      "Alger 'because': 0.00043\n"
     ]
    }
   ],
   "source": [
    "for book in james:\n",
    "    freqs=count_stopwords_freqs(book)\n",
    "    print(\"James 'because': %.5f\" % freqs[\"because\"])\n",
    "\n",
    "for book in austen:\n",
    "    freqs=count_stopwords_freqs(book)\n",
    "    print(\"Austen 'because': %.5f\" % freqs[\"because\"])\n",
    "\n",
    "for book in alger:\n",
    "    freqs=count_stopwords_freqs(book)\n",
    "    print(\"Alger 'because': %.5f\" % freqs[\"because\"])"
   ]
  },
  {
   "cell_type": "markdown",
   "id": "2ae23125",
   "metadata": {},
   "source": [
    "The functions you wrote now give you a way represent a text as a vector of stylistic features.  Let's see how we can use that to compare the similarity of styles between the three authors above."
   ]
  },
  {
   "cell_type": "code",
   "execution_count": 28,
   "id": "d7989f3c",
   "metadata": {
    "tags": []
   },
   "outputs": [],
   "source": [
    "def featurize_style(text):\n",
    "    vec=[]\n",
    "    vec.append(get_avg_sentence_length(text))\n",
    "    vec.append(type_token_ratio(text))\n",
    "    stopword_freq=count_stopwords_freqs(text)\n",
    "    for stop in set(stopwords.words('english')):\n",
    "        if stop in stopword_freq:\n",
    "            vec.append(stopword_freq[stop])\n",
    "        else:\n",
    "            vec.append(0)\n",
    "    return vec"
   ]
  },
  {
   "cell_type": "code",
   "execution_count": 29,
   "id": "a3737940",
   "metadata": {
    "tags": []
   },
   "outputs": [],
   "source": [
    "all_vecs=[]\n",
    "for book in james:\n",
    "    all_vecs.append(featurize_style(book))\n",
    "\n",
    "for book in austen:\n",
    "    all_vecs.append(featurize_style(book))\n",
    "\n",
    "for book in alger:\n",
    "    all_vecs.append(featurize_style(book))\n"
   ]
  },
  {
   "cell_type": "markdown",
   "id": "32dd59b4",
   "metadata": {},
   "source": [
    "We're going to compare the style vector for each book with each other, comparing them via cosine similarity. To give equal weight to each style dimension, we'll normalize each feature to its z score (with respect to the value of that feature across all observations)."
   ]
  },
  {
   "cell_type": "code",
   "execution_count": 30,
   "id": "706876a1",
   "metadata": {
    "tags": []
   },
   "outputs": [],
   "source": [
    "from sklearn.preprocessing import StandardScaler\n",
    "scaler = StandardScaler()\n",
    "scaler.fit(all_vecs)\n",
    "all_vecs=scaler.transform(all_vecs)"
   ]
  },
  {
   "cell_type": "code",
   "execution_count": 31,
   "id": "13ac684c",
   "metadata": {
    "tags": []
   },
   "outputs": [],
   "source": [
    "from sklearn.metrics.pairwise import cosine_similarity"
   ]
  },
  {
   "cell_type": "code",
   "execution_count": 32,
   "id": "1241835a",
   "metadata": {
    "tags": []
   },
   "outputs": [],
   "source": [
    "sims=cosine_similarity(all_vecs, all_vecs)"
   ]
  },
  {
   "cell_type": "markdown",
   "id": "db410987",
   "metadata": {},
   "source": [
    "Now let's visualize those similarites as a heatmap."
   ]
  },
  {
   "cell_type": "code",
   "execution_count": 33,
   "id": "78294f22",
   "metadata": {
    "tags": []
   },
   "outputs": [],
   "source": [
    "import seaborn as sns\n",
    "import pandas as pd"
   ]
  },
  {
   "cell_type": "code",
   "execution_count": 34,
   "id": "8ac222da",
   "metadata": {
    "tags": []
   },
   "outputs": [],
   "source": [
    "names=[\"james1\", \"james2\", \"james3\", \"austen1\", \"austen2\", \"austen3\", \"alger1\", \"alger2\", \"alger3\"]\n",
    "df = pd.DataFrame(sims, columns=names)"
   ]
  },
  {
   "cell_type": "code",
   "execution_count": 35,
   "id": "d57bb7f3",
   "metadata": {
    "tags": []
   },
   "outputs": [
    {
     "data": {
      "image/png": "[encoded data removed]",
      "text/plain": [
       "<Figure size 432x288 with 2 Axes>"
      ]
     },
     "metadata": {
      "needs_background": "light"
     },
     "output_type": "display_data"
    }
   ],
   "source": [
    "p1 = sns.heatmap(df, cmap=\"Greens\", xticklabels=names, yticklabels=names)"
   ]
  },
  {
   "cell_type": "markdown",
   "id": "20802c54",
   "metadata": {},
   "source": [
    "Q4 **(check-plus)**: From the Grieve 2005, \"[Quantiative Authorship Attribution: A History and Evaluation of Techniques](https://summit.sfu.ca/_flysystem/fedora/sfu_migrate/8840/etd1721.pdf)\" paper referenced above, pick one other stylistic feature and implement it.  As with the other stylistic measures, run it on the 9 books above; does it differentiate those authors?"
   ]
  },
  {
   "cell_type": "code",
   "execution_count": null,
   "id": "23668e1a",
   "metadata": {},
   "outputs": [],
   "source": []
  }
 ],
 "metadata": {
  "kernelspec": {
   "display_name": "Python 3 (ipykernel)",
   "language": "python",
   "name": "python3"
  },
  "language_info": {
   "codemirror_mode": {
    "name": "ipython",
    "version": 3
   },
   "file_extension": ".py",
   "mimetype": "text/x-python",
   "name": "python",
   "nbconvert_exporter": "python",
   "pygments_lexer": "ipython3",
   "version": "3.11.4"
  }
 },
 "nbformat": 4,
 "nbformat_minor": 5
}
