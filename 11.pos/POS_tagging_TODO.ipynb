{
 "cells": [
  {
   "cell_type": "markdown",
   "metadata": {},
   "source": [
    "In this notebook, you'll explore part of speech tagging using the Penn Treebank tagset (along with the performance of POS tagging in Spacy.)"
   ]
  },
  {
   "cell_type": "code",
   "execution_count": null,
   "metadata": {},
   "outputs": [],
   "source": [
    "import spacy, glob, os"
   ]
  },
  {
   "cell_type": "code",
   "execution_count": null,
   "metadata": {},
   "outputs": [],
   "source": [
    "nlp = spacy.load('en_core_web_sm', disable=['ner,parser'])\n",
    "nlp.remove_pipe('ner')\n",
    "nlp.remove_pipe('parser')"
   ]
  },
  {
   "cell_type": "code",
   "execution_count": null,
   "metadata": {},
   "outputs": [],
   "source": [
    "def get_spacy_tags(text):\n",
    "    doc=nlp(text)\n",
    "    for word in doc:\n",
    "        print(word.text, word.tag_)\n",
    "\n",
    "get_spacy_tags(\"Open the pod bay doors Hal\")"
   ]
  },
  {
   "cell_type": "code",
   "execution_count": null,
   "metadata": {},
   "outputs": [],
   "source": [
    "def read_docs(inputDir, maxDocs=100):\n",
    "    \"\"\" Read in movie documents (all ending in .txt) from an input folder\n",
    "    and process with spacy \"\"\"\n",
    "    \n",
    "    docs=[]\n",
    "    for idx, filename in enumerate(glob.glob(os.path.join(inputDir, '*.txt'))):\n",
    "        with open(filename) as file:\n",
    "            docs.append((filename, nlp(file.read())))\n",
    "        if idx >= maxDocs:\n",
    "            break\n",
    "    return docs"
   ]
  },
  {
   "cell_type": "code",
   "execution_count": null,
   "metadata": {},
   "outputs": [],
   "source": [
    "# directory with 2000 movies summaries from Wikipedia\n",
    "inputDir=\"../data/movie_summaries/\"\n",
    "docs=read_docs(inputDir, maxDocs=100)"
   ]
  },
  {
   "cell_type": "markdown",
   "metadata": {},
   "source": [
    "Here are the 45 tags used by the Penn Treebank:\n",
    "\n",
    "|tag|meaning|\n",
    "|---|---|\n",
    "|CC|Coordinating conjunction|\n",
    "|CD|Cardinal number|\n",
    "|DT|Determiner|\n",
    "|EX|Existential there|\n",
    "|FW|Foreign word|\n",
    "|IN|Preposition or subordinating conjunction|\n",
    "|JJ|Adjective|\n",
    "|JJR|Adjective, comparative|\n",
    "|JJS|Adjective, superlative|\n",
    "|LS|List item marker|\n",
    "|MD|Modal|\n",
    "|NN|Noun, singular or mass|\n",
    "|NNS|Noun, plural|\n",
    "|NNP|Proper noun, singular|\n",
    "|NNPS|Proper noun, plural|\n",
    "|PDT|Predeterminer|\n",
    "|POS|Possessive ending|\n",
    "|PRP|Personal pronoun|\n",
    "|PRP\\$|Possessive pronoun|\n",
    "|RB|Adverb|\n",
    "|RBR|Adverb, comparative|\n",
    "|RBS|Adverb, superlative|\n",
    "|RP|Particle|\n",
    "|SYM|Symbol|\n",
    "|TO|to|\n",
    "|UH|Interjection|\n",
    "|VB|Verb, base form|\n",
    "|VBD|Verb, past tense|\n",
    "|VBG|Verb, gerund or present participle|\n",
    "|VBN|Verb, past participle|\n",
    "|VBP|Verb, non-3rd person singular present|\n",
    "|VBZ|Verb, 3rd person singular present|\n",
    "|WDT|Wh-determiner|\n",
    "|WP|Wh-pronoun|\n",
    "|WP\\$|Possessive wh-pronoun|\n",
    "|WRB|Wh-adverb|\n",
    "|.|period|\n",
    "|,|comma|\n",
    "|:|colon|\n",
    "|(|left separator|\n",
    "|)|right separator|\n",
    "|$|dollar sign|\n",
    "|\\`\\`|open double quotes|\n",
    "|''|close double quotes|\n",
    "\n",
    "Explore these tags below by searching for sentences in the (automatically tagged) movie summary corpus that have been tagged for each one."
   ]
  },
  {
   "cell_type": "code",
   "execution_count": null,
   "metadata": {},
   "outputs": [],
   "source": [
    "def find_examples(docs, tag, num_examples=10, window=5):\n",
    "    count=0\n",
    "    for _, doc in docs:\n",
    "        for idx, token in enumerate(doc[window:-window]):\n",
    "            if token.tag_ == tag:\n",
    "                print (' '.join([\"%s\" % context.text for context in doc[idx:idx+window ]]), \"\\033[91m%s\\033[0m\" % doc[idx+window].text, ' '.join([\"%s\" % context.text for context in doc[idx+window+1:idx+window+window+1] ]))\n",
    "                # for windows users - you may want to use the following print statement\n",
    "                # to highlight the middle token in each sentence using #s\n",
    "                # print (' '.join([\"%s\" % context.text for context in doc[idx:idx+window ]]), \"#%s#\" % doc[idx+window].text, ' '.join([\"%s\" % context.text for context in doc[idx+window+1:idx+window+window+1] ]))\n",
    "                count+=1\n",
    "                if count >= num_examples:\n",
    "                    return"
   ]
  },
  {
   "cell_type": "code",
   "execution_count": null,
   "metadata": {},
   "outputs": [],
   "source": [
    "find_examples(docs, \"CC\", num_examples=10, window=5)"
   ]
  },
  {
   "cell_type": "markdown",
   "metadata": {},
   "source": [
    "What's the difference between the following?\n",
    "\n",
    "* PRP and PRP$\n",
    "* NN and NNP\n",
    "* JJ and JJR\n",
    "* VBZ and VB"
   ]
  },
  {
   "cell_type": "markdown",
   "metadata": {},
   "source": [
    "Q2: Use the `find_examples` function to help understand the usage of each part-of-speech tag; after doing so, manually tag the following four sentences (if you're doing this in class, you can work with a partner!)"
   ]
  },
  {
   "cell_type": "markdown",
   "metadata": {},
   "source": [
    "1. \"Open the pod bay doors, Hal\""
   ]
  },
  {
   "cell_type": "markdown",
   "metadata": {},
   "source": [
    "2. \"Frankly, my dear, I don't give a damn\""
   ]
  },
  {
   "cell_type": "markdown",
   "metadata": {},
   "source": [
    "3. \"May the Force be with you\""
   ]
  },
  {
   "cell_type": "markdown",
   "metadata": {},
   "source": [
    "4. One morning I shot an elephant in my pajamas. How he got in my pajamas, I don't know"
   ]
  },
  {
   "cell_type": "markdown",
   "metadata": {},
   "source": [
    "Q3. After tagging the sentences above by hand, run them through the spacy tagger; what's spacy's accuracy on these sentences?"
   ]
  },
  {
   "cell_type": "code",
   "execution_count": null,
   "metadata": {},
   "outputs": [],
   "source": []
  }
 ],
 "metadata": {
  "kernelspec": {
   "display_name": "Python 3 (ipykernel)",
   "language": "python",
   "name": "python3"
  },
  "language_info": {
   "codemirror_mode": {
    "name": "ipython",
    "version": 3
   },
   "file_extension": ".py",
   "mimetype": "text/x-python",
   "name": "python",
   "nbconvert_exporter": "python",
   "pygments_lexer": "ipython3",
   "version": "3.11.4"
  }
 },
 "nbformat": 4,
 "nbformat_minor": 2
}
