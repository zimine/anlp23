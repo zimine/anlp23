{
 "cells": [
  {
   "cell_type": "markdown",
   "metadata": {},
   "source": [
    "In this notebook, you'll explore part of speech tagging using the Penn Treebank tagset (along with the performance of POS tagging in Spacy.)"
   ]
  },
  {
   "cell_type": "code",
   "execution_count": 1,
   "metadata": {
    "tags": []
   },
   "outputs": [],
   "source": [
    "import spacy, glob, os"
   ]
  },
  {
   "cell_type": "code",
   "execution_count": 2,
   "metadata": {
    "tags": []
   },
   "outputs": [
    {
     "data": {
      "text/plain": [
       "('parser', <spacy.pipeline.dep_parser.DependencyParser at 0x1666434c0>)"
      ]
     },
     "execution_count": 2,
     "metadata": {},
     "output_type": "execute_result"
    }
   ],
   "source": [
    "nlp = spacy.load('en_core_web_sm', disable=['ner,parser'])\n",
    "nlp.remove_pipe('ner')\n",
    "nlp.remove_pipe('parser')"
   ]
  },
  {
   "cell_type": "code",
   "execution_count": 3,
   "metadata": {
    "tags": []
   },
   "outputs": [
    {
     "name": "stdout",
     "output_type": "stream",
     "text": [
      "Open VB\n",
      "the DT\n",
      "pod NNP\n",
      "bay NNP\n",
      "doors NNS\n",
      "Hal NNP\n"
     ]
    }
   ],
   "source": [
    "def get_spacy_tags(text):\n",
    "    doc=nlp(text)\n",
    "    for word in doc:\n",
    "        print(word.text, word.tag_)\n",
    "\n",
    "get_spacy_tags(\"Open the pod bay doors Hal\")"
   ]
  },
  {
   "cell_type": "code",
   "execution_count": 4,
   "metadata": {
    "tags": []
   },
   "outputs": [],
   "source": [
    "def read_docs(inputDir, maxDocs=100):\n",
    "    \"\"\" Read in movie documents (all ending in .txt) from an input folder\n",
    "    and process with spacy \"\"\"\n",
    "    \n",
    "    docs=[]\n",
    "    for idx, filename in enumerate(glob.glob(os.path.join(inputDir, '*.txt'))):\n",
    "        with open(filename) as file:\n",
    "            docs.append((filename, nlp(file.read())))\n",
    "        if idx >= maxDocs:\n",
    "            break\n",
    "    return docs"
   ]
  },
  {
   "cell_type": "code",
   "execution_count": 5,
   "metadata": {
    "tags": []
   },
   "outputs": [],
   "source": [
    "# directory with 2000 movies summaries from Wikipedia\n",
    "inputDir=\"../data/movie_summaries/\"\n",
    "docs=read_docs(inputDir, maxDocs=100)"
   ]
  },
  {
   "cell_type": "markdown",
   "metadata": {},
   "source": [
    "Here are the 45 tags used by the Penn Treebank:\n",
    "\n",
    "|tag|meaning|\n",
    "|---|---|\n",
    "|CC|Coordinating conjunction|\n",
    "|CD|Cardinal number|\n",
    "|DT|Determiner|\n",
    "|EX|Existential there|\n",
    "|FW|Foreign word|\n",
    "|IN|Preposition or subordinating conjunction|\n",
    "|JJ|Adjective|\n",
    "|JJR|Adjective, comparative|\n",
    "|JJS|Adjective, superlative|\n",
    "|LS|List item marker|\n",
    "|MD|Modal|\n",
    "|NN|Noun, singular or mass|\n",
    "|NNS|Noun, plural|\n",
    "|NNP|Proper noun, singular|\n",
    "|NNPS|Proper noun, plural|\n",
    "|PDT|Predeterminer|\n",
    "|POS|Possessive ending|\n",
    "|PRP|Personal pronoun|\n",
    "|PRP\\$|Possessive pronoun|\n",
    "|RB|Adverb|\n",
    "|RBR|Adverb, comparative|\n",
    "|RBS|Adverb, superlative|\n",
    "|RP|Particle|\n",
    "|SYM|Symbol|\n",
    "|TO|to|\n",
    "|UH|Interjection|\n",
    "|VB|Verb, base form|\n",
    "|VBD|Verb, past tense|\n",
    "|VBG|Verb, gerund or present participle|\n",
    "|VBN|Verb, past participle|\n",
    "|VBP|Verb, non-3rd person singular present|\n",
    "|VBZ|Verb, 3rd person singular present|\n",
    "|WDT|Wh-determiner|\n",
    "|WP|Wh-pronoun|\n",
    "|WP\\$|Possessive wh-pronoun|\n",
    "|WRB|Wh-adverb|\n",
    "|.|period|\n",
    "|,|comma|\n",
    "|:|colon|\n",
    "|(|left separator|\n",
    "|)|right separator|\n",
    "|$|dollar sign|\n",
    "|\\`\\`|open double quotes|\n",
    "|''|close double quotes|\n",
    "\n",
    "Explore these tags below by searching for sentences in the (automatically tagged) movie summary corpus that have been tagged for each one."
   ]
  },
  {
   "cell_type": "code",
   "execution_count": 6,
   "metadata": {
    "tags": []
   },
   "outputs": [],
   "source": [
    "def find_examples(docs, tag, num_examples=10, window=5):\n",
    "    count=0\n",
    "    for _, doc in docs:\n",
    "        for idx, token in enumerate(doc[window:-window]):\n",
    "            if token.tag_ == tag:\n",
    "                print (' '.join([\"%s\" % context.text for context in doc[idx:idx+window ]]), \"\\033[91m%s\\033[0m\" % doc[idx+window].text, ' '.join([\"%s\" % context.text for context in doc[idx+window+1:idx+window+window+1] ]))\n",
    "                # for windows users - you may want to use the following print statement\n",
    "                # to highlight the middle token in each sentence using #s\n",
    "                # print (' '.join([\"%s\" % context.text for context in doc[idx:idx+window ]]), \"#%s#\" % doc[idx+window].text, ' '.join([\"%s\" % context.text for context in doc[idx+window+1:idx+window+window+1] ]))\n",
    "                count+=1\n",
    "                if count >= num_examples:\n",
    "                    return"
   ]
  },
  {
   "cell_type": "code",
   "execution_count": 7,
   "metadata": {
    "tags": []
   },
   "outputs": [
    {
     "name": "stdout",
     "output_type": "stream",
     "text": [
      "intelligent , he is immature \u001b[91mand\u001b[0m lacks respect for classmates and\n",
      "and lacks respect for classmates \u001b[91mand\u001b[0m adults alike . Frightened about\n",
      "than an hour later , \u001b[91mand\u001b[0m eventually decide the crime is\n",
      "unimportant because nothing was taken \u001b[91mand\u001b[0m the burglar escaped completely unharmed\n",
      ", treat Furious with disrespect \u001b[91mand\u001b[0m contempt . The following day\n",
      "half - brother Ricky , \u001b[91mand\u001b[0m Chris . Doughboy and Ricky\n",
      ", and Chris . Doughboy \u001b[91mand\u001b[0m Ricky live with their mother\n",
      ". While Ricky is naïve \u001b[91mand\u001b[0m trusting , Doughboy is aggressive\n",
      "trusting , Doughboy is aggressive \u001b[91mand\u001b[0m street - smart . He\n",
      "Ricky 's stolen football , \u001b[91mbut\u001b[0m is beaten up . The\n"
     ]
    }
   ],
   "source": [
    "find_examples(docs, \"CC\", num_examples=10, window=5)"
   ]
  },
  {
   "cell_type": "markdown",
   "metadata": {},
   "source": [
    "What's the difference between the following?\n",
    "\n",
    "* PRP and PRP$: PRP$ is the tag for possessive pronouns.\n",
    "* NN and NNP: NNP refers to proper noun. \n",
    "* JJ and JJR: JJR is the comparative form of an adjective.\n",
    "* VBZ and VB: VBZ is the 3nd person singular form of a verb"
   ]
  },
  {
   "cell_type": "code",
   "execution_count": 8,
   "metadata": {
    "tags": []
   },
   "outputs": [
    {
     "name": "stdout",
     "output_type": "stream",
     "text": [
      "Tre is rather intelligent , \u001b[91mhe\u001b[0m is immature and lacks respect\n",
      "her child , Reva sends \u001b[91mhim\u001b[0m to live in the Crenshaw\n",
      "Furious Styles , from whom \u001b[91mshe\u001b[0m hopes Tre will learn life\n",
      "of Tre 's arrival , \u001b[91mhe\u001b[0m hears his father firing at\n",
      "and street - smart . \u001b[91mHe\u001b[0m soon gets into a fight\n",
      "The ball is returned to \u001b[91mhim\u001b[0m later by a Crips gang\n",
      "a fishing trip , where \u001b[91mthey\u001b[0m talk , and he asks\n",
      "where they talk , and \u001b[91mhe\u001b[0m asks him about sexual nature\n",
      "talk , and he asks \u001b[91mhim\u001b[0m about sexual nature and discusses\n",
      "the responsibility of fatherhood to \u001b[91mhim\u001b[0m . The pair return to\n"
     ]
    }
   ],
   "source": [
    "find_examples(docs, \"PRP\", num_examples=10, window=5)"
   ]
  },
  {
   "cell_type": "code",
   "execution_count": 9,
   "metadata": {
    "tags": []
   },
   "outputs": [
    {
     "name": "stdout",
     "output_type": "stream",
     "text": [
      "Tre Styles   lives with \u001b[91mhis\u001b[0m single mother Reva Devereaux  \n",
      "a fight at school , \u001b[91mhis\u001b[0m teacher calls Reva . The\n",
      "Frightened about the future of \u001b[91mher\u001b[0m child , Reva sends him\n",
      "South Central Los Angeles with \u001b[91mhis\u001b[0m 27 - year - old\n",
      "'s arrival , he hears \u001b[91mhis\u001b[0m father firing at a burglar\n",
      "\" Doughboy \" Baker , \u001b[91mhis\u001b[0m maternal half - brother Ricky\n",
      "Doughboy and Ricky live with \u001b[91mtheir\u001b[0m mother across the street from\n",
      ", lives at home with \u001b[91mhis\u001b[0m mother Brenda , girlfriend Shanice\n",
      ", girlfriend Shanice , and \u001b[91mhis\u001b[0m newborn son . After the\n",
      "walks home with leftovers for \u001b[91mhis\u001b[0m father . As he walks\n"
     ]
    }
   ],
   "source": [
    "find_examples(docs, \"PRP$\", num_examples=10, window=5)"
   ]
  },
  {
   "cell_type": "code",
   "execution_count": 10,
   "metadata": {
    "tags": []
   },
   "outputs": [
    {
     "name": "stdout",
     "output_type": "stream",
     "text": [
      "In 1984 , ten - \u001b[91myear\u001b[0m - old Tre Styles  \n",
      "  lives with his single \u001b[91mmother\u001b[0m Reva Devereaux   in Inglewood\n",
      "Tre gets involved in a \u001b[91mfight\u001b[0m at school , his teacher\n",
      "involved in a fight at \u001b[91mschool\u001b[0m , his teacher calls Reva\n",
      "fight at school , his \u001b[91mteacher\u001b[0m calls Reva . The teacher\n",
      "teacher calls Reva . The \u001b[91mteacher\u001b[0m informs Reva that although Tre\n",
      "he is immature and lacks \u001b[91mrespect\u001b[0m for classmates and adults alike\n",
      "alike . Frightened about the \u001b[91mfuture\u001b[0m of her child , Reva\n",
      "about the future of her \u001b[91mchild\u001b[0m , Reva sends him to\n",
      "to live in the Crenshaw \u001b[91mneighborhood\u001b[0m of South Central Los Angeles\n"
     ]
    }
   ],
   "source": [
    "find_examples(docs, \"NN\", num_examples=10, window=5)"
   ]
  },
  {
   "cell_type": "code",
   "execution_count": 11,
   "metadata": {
    "tags": []
   },
   "outputs": [
    {
     "name": "stdout",
     "output_type": "stream",
     "text": [
      "ten - year - old \u001b[91mTre\u001b[0m Styles   lives with his\n",
      "lives with his single mother \u001b[91mReva\u001b[0m Devereaux   in Inglewood ,\n",
      "with his single mother Reva \u001b[91mDevereaux\u001b[0m   in Inglewood , California\n",
      "mother Reva Devereaux   in \u001b[91mInglewood\u001b[0m , California . After Tre\n",
      "Devereaux   in Inglewood , \u001b[91mCalifornia\u001b[0m . After Tre gets involved\n",
      "Inglewood , California . After \u001b[91mTre\u001b[0m gets involved in a fight\n",
      "school , his teacher calls \u001b[91mReva\u001b[0m . The teacher informs Reva\n",
      "Reva . The teacher informs \u001b[91mReva\u001b[0m that although Tre is rather\n",
      "teacher informs Reva that although \u001b[91mTre\u001b[0m is rather intelligent , he\n",
      "future of her child , \u001b[91mReva\u001b[0m sends him to live in\n"
     ]
    }
   ],
   "source": [
    "find_examples(docs, \"NNP\", num_examples=10, window=5)"
   ]
  },
  {
   "cell_type": "markdown",
   "metadata": {},
   "source": [
    "Q2: Use the `find_examples` function to help understand the usage of each part-of-speech tag; after doing so, manually tag the following four sentences (if you're doing this in class, you can work with a partner!)"
   ]
  },
  {
   "cell_type": "markdown",
   "metadata": {},
   "source": [
    "1. \"Open the pod bay doors, Hal\"\n",
    "\n",
    "Open VB <br>\n",
    "the DT <br>\n",
    "pod NN <br>\n",
    "bay NN <br>\n",
    "doors NNS <br>\n",
    ", comma <br>\n",
    "Hal NNP <br>"
   ]
  },
  {
   "cell_type": "markdown",
   "metadata": {},
   "source": [
    "2. \"Frankly, my dear, I don't give a damn\"\n",
    "\n",
    "Frankly RB <br>\n",
    ", comma <br>\n",
    "my PRP$ <br>\n",
    "dear NN <br>\n",
    ", comma <br>\n",
    "I PRP <br>\n",
    "do VBP <br>\n",
    "n't RB <br>\n",
    "give VBP <br>\n",
    "a DT <br>\n",
    "damn NN <br>"
   ]
  },
  {
   "cell_type": "markdown",
   "metadata": {},
   "source": [
    "3. \"May the Force be with you\"\n",
    "\n",
    "May MD <br>\n",
    "the DT <br>\n",
    "Force NNP <br>\n",
    "be VBP <br>\n",
    "with IN <br>\n",
    "you PRP <br>"
   ]
  },
  {
   "cell_type": "markdown",
   "metadata": {},
   "source": [
    "4. One morning I shot an elephant in my pajamas. How he got in my pajamas, I don't know\n",
    "\n",
    "One CD <br>\n",
    "morning NN <br>\n",
    "I PRP <br>\n",
    "shot VBD <br>\n",
    "an DT <br>\n",
    "elephant NN <br>\n",
    "in IN <br>\n",
    "my PRP$ <br>\n",
    "pajamas NNS <br>\n",
    ". period <br>\n",
    "\n",
    "How WRB <br>\n",
    "he PRP <br>\n",
    "got VBD <br>\n",
    "in IN <br>\n",
    "my PRP$ <br>\n",
    "pajamas NNS <br>\n",
    ", comma <br>\n",
    "I PRP <br>\n",
    "do VBP <br>\n",
    "n't RB <br>\n",
    "know VBP <br>"
   ]
  },
  {
   "cell_type": "markdown",
   "metadata": {},
   "source": [
    "Q3. After tagging the sentences above by hand, run them through the spacy tagger; what's spacy's accuracy on these sentences?"
   ]
  },
  {
   "cell_type": "markdown",
   "metadata": {},
   "source": [
    "The accuracy overall is quite high. However, I'm a bit surprised that the universal POS tags do not have one tag for auxiliary verbs; verbs like `do` are tagged the same way as any other verbs, with one of the `VB` tags. The most approprite one, in my opinion, might be `Modal`. The spaCy tagger cannot identify noun-noun compound, for instance, the noun phrase `pod bay doors` are tagged as `NNP NNP NNS`, both `pod` and `bay` are tagged as singular proper noun instead of noun. One thing my classmate and I debated is verbs in imperative mood, for instance, `open` in the first sentence. We think it should be tagged as `VB` -- verb in base form instead of `VBP` -- verb in present tense. One thing we do agree with the spaCy tagger is `Force` in `May the Force be with you`, more likely to be tagged with `NNP` -- proper noun than noun. "
   ]
  },
  {
   "cell_type": "code",
   "execution_count": 12,
   "metadata": {
    "tags": []
   },
   "outputs": [
    {
     "name": "stdout",
     "output_type": "stream",
     "text": [
      "Open VB\n",
      "the DT\n",
      "pod NNP\n",
      "bay NNP\n",
      "doors NNS\n",
      ", ,\n",
      "Hal NNP\n",
      "\n",
      "\n",
      "Frankly RB\n",
      ", ,\n",
      "my PRP$\n",
      "dear NN\n",
      ", ,\n",
      "I PRP\n",
      "do VBP\n",
      "n't RB\n",
      "give VB\n",
      "a DT\n",
      "damn NN\n",
      "\n",
      "\n",
      "May MD\n",
      "the DT\n",
      "Force NNP\n",
      "be VB\n",
      "with IN\n",
      "you PRP\n",
      "\n",
      "\n",
      "One CD\n",
      "morning NN\n",
      "I PRP\n",
      "shot VBD\n",
      "an DT\n",
      "elephant NN\n",
      "in IN\n",
      "my PRP$\n",
      "pajamas NNS\n",
      ". .\n",
      "How WRB\n",
      "he PRP\n",
      "got VBD\n",
      "in IN\n",
      "my PRP$\n",
      "pajamas NNS\n",
      ", ,\n",
      "I PRP\n",
      "do VBP\n",
      "n't RB\n",
      "know VB\n",
      "\n",
      "\n"
     ]
    }
   ],
   "source": [
    "sent = [\"Open the pod bay doors, Hal\",\n",
    "        \"Frankly, my dear, I don't give a damn\",\n",
    "        \"May the Force be with you\",\n",
    "        \"One morning I shot an elephant in my pajamas. How he got in my pajamas, I don't know\"]\n",
    "\n",
    "for s in sent:\n",
    "    get_spacy_tags(s)\n",
    "    print(\"\\n\")"
   ]
  }
 ],
 "metadata": {
  "kernelspec": {
   "display_name": "Python 3 (ipykernel)",
   "language": "python",
   "name": "python3"
  },
  "language_info": {
   "codemirror_mode": {
    "name": "ipython",
    "version": 3
   },
   "file_extension": ".py",
   "mimetype": "text/x-python",
   "name": "python",
   "nbconvert_exporter": "python",
   "pygments_lexer": "ipython3",
   "version": "3.11.4"
  }
 },
 "nbformat": 4,
 "nbformat_minor": 4
}
