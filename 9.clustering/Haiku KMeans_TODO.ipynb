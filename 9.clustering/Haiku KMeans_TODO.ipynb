{
 "cells": [
  {
   "cell_type": "markdown",
   "id": "f8780af9",
   "metadata": {},
   "source": [
    "In \"[Literary Pattern Recognition](https://www.journals.uchicago.edu/doi/full/10.1086/684353)\", Long and So train a classifier to differentiate haiku poems from non-haiku poems, and find that many features help do so.  In class, we've discussed the importance of representation--how you *describe* a text computationally influences the kinds of things you are able to do with it.  While Long and So explore description in the context of classification, in this homework, you'll see how well you can design features that can differentiate these two classes *without* any supervision. Are you able to featurize a collection of poems such that two clusters (haiku/non-haiku) emerge when using KMeans clustering, with the text representation as your only degree of freedom?"
   ]
  },
  {
   "cell_type": "code",
   "execution_count": 1,
   "id": "d30ae833",
   "metadata": {
    "scrolled": true
   },
   "outputs": [],
   "source": [
    "import csv, os, re\n",
    "import nltk\n",
    "from scipy import sparse\n",
    "from sklearn.cluster import KMeans\n",
    "from sklearn import metrics\n",
    "import math\n",
    "from collections import Counter\n",
    "import random"
   ]
  },
  {
   "cell_type": "code",
   "execution_count": 2,
   "id": "3f517024",
   "metadata": {
    "scrolled": true
   },
   "outputs": [],
   "source": [
    "def read_texts(path, metadata, filepath_col):\n",
    "    data=[]\n",
    "    with open(metadata, encoding=\"utf-8\") as file:\n",
    "        csv_reader = csv.reader(file)\n",
    "        next(csv_reader)\n",
    "        for cols in csv_reader:\n",
    "            poem_path=os.path.join(path, cols[filepath_col])\n",
    "            if os.path.exists(poem_path):\n",
    "                with open(poem_path, encoding=\"utf-8\") as poem_file:\n",
    "                    poem=poem_file.read()\n",
    "                    data.append(poem)\n",
    "    return data"
   ]
  },
  {
   "cell_type": "markdown",
   "id": "d81026d2",
   "metadata": {},
   "source": [
    "Here we'll use data originally released on Github to support \"Literary Pattern Recognition\": [https://github.com/hoytlong/PatternRecognition](https://github.com/hoytlong/PatternRecognition)"
   ]
  },
  {
   "cell_type": "code",
   "execution_count": 3,
   "id": "cfbe9556",
   "metadata": {
    "scrolled": true
   },
   "outputs": [],
   "source": [
    "haiku=read_texts(\"../data/haiku/long_so_haiku\", \"../data/haiku/Haikus.csv\", 4)"
   ]
  },
  {
   "cell_type": "code",
   "execution_count": 4,
   "id": "336544fe",
   "metadata": {
    "scrolled": true
   },
   "outputs": [],
   "source": [
    "others=read_texts(\"../data/haiku/long_so_others\", \"../data/haiku/OthersData.csv\", 5)"
   ]
  },
  {
   "cell_type": "code",
   "execution_count": 5,
   "id": "f2b4d33b",
   "metadata": {
    "scrolled": true
   },
   "outputs": [],
   "source": [
    "# don't change anything within this code block\n",
    "\n",
    "def run_all(haiku, others, feature_function):\n",
    "    \n",
    "    X, Y, featurize_vocab=feature_function(haiku, others)\n",
    "    kmeans = KMeans(n_clusters=2, random_state=0).fit(X)\n",
    "    nmi=metrics.normalized_mutual_info_score(Y, kmeans.labels_)\n",
    "    print(\"%.3f NMI\" % nmi)"
   ]
  },
  {
   "cell_type": "markdown",
   "id": "6d2c16b1",
   "metadata": {},
   "source": [
    "As one example, let's take a simple featurization and represent each poem by a binary indicator of the dictionary word types it contains.  \"To be or not to be\", for example, would be represented as {\"to\": 1, \"be\": 1, \"or\": 1, \"not\": 1}"
   ]
  },
  {
   "cell_type": "code",
   "execution_count": 6,
   "id": "f433360a",
   "metadata": {
    "scrolled": true
   },
   "outputs": [],
   "source": [
    "# This function takes in a list of haiku poems and non-haiku poems, and returns:\n",
    "\n",
    "# X (sparse matrix, with poems as rows and features as columns)\n",
    "# Y (list of poem labels, with 1=haiku and 0=non-haiku)\n",
    "# feature_vocab (dict mapping feature name to feature ID)\n",
    "\n",
    "def unigram_featurize_all(haiku, others):\n",
    "\n",
    "    def unigram_featurize(poem, feature_vocab):\n",
    "        \n",
    "        # featurize text by just noting the binary presence of words within it\n",
    "        \n",
    "        feats={}\n",
    "\n",
    "        tokens=nltk.word_tokenize(poem.lower())\n",
    "        for token in tokens:\n",
    "            if token not in feature_vocab:\n",
    "                feature_vocab[token]=len(feature_vocab)\n",
    "            feats[feature_vocab[token]]=1\n",
    "        return feats\n",
    "\n",
    "    feature_vocab={}\n",
    "    data=[]\n",
    "    Y=[]\n",
    "\n",
    "    for poem in haiku:\n",
    "        feats=unigram_featurize(poem, feature_vocab)\n",
    "        data.append(feats)\n",
    "        Y.append(1)\n",
    "    for poem in others:\n",
    "        feats=unigram_featurize(poem, feature_vocab)\n",
    "        data.append(feats)\n",
    "        Y.append(0)\n",
    "    \n",
    "    # since the data above has all haiku ordered before non-haiku, let's shuffle them\n",
    "    temp = list(zip(data, Y))\n",
    "    random.shuffle(temp)\n",
    "    data, Y = zip(*temp)\n",
    "\n",
    "    # we'll use a sparse representation since our features are sparse\n",
    "    X=sparse.lil_matrix((len(data), len(feature_vocab)))\n",
    "\n",
    "    for idx,feats in enumerate(data):\n",
    "        for f in feats:\n",
    "            X[idx,f]=feats[f]\n",
    "    \n",
    "    return X, Y, feature_vocab"
   ]
  },
  {
   "cell_type": "markdown",
   "id": "e695d6fb",
   "metadata": {},
   "source": [
    "This method yields an NMI of ~0.07 (with some variability due to the randomness of KMeans)"
   ]
  },
  {
   "cell_type": "code",
   "execution_count": 7,
   "id": "2b420ead",
   "metadata": {
    "scrolled": true
   },
   "outputs": [
    {
     "name": "stdout",
     "output_type": "stream",
     "text": [
      "0.057 NMI\n"
     ]
    }
   ],
   "source": [
    "run_all(haiku, others, unigram_featurize_all)"
   ]
  },
  {
   "cell_type": "markdown",
   "id": "57e57de6",
   "metadata": {},
   "source": [
    "**Q1**: Copy the `unigram_featurize_all` code above and adapt it to create your own featurization method named `fancy_featurize_all`.  You may use whatever information you like to represent these poems for the purposes of clustering them into two categories, but you must use the KMeans clustering (with 2 clusters) as defined in `run_all`.  Use your own understanding of haiku, or read the Long and So article above for other ideas.  Are you able to improve over an NMI of 0.07?"
   ]
  },
  {
   "cell_type": "code",
   "execution_count": 8,
   "id": "89b0fce3-e0f8-4261-b67e-e6c05d9a29c6",
   "metadata": {},
   "outputs": [
    {
     "name": "stdout",
     "output_type": "stream",
     "text": [
      "Requirement already satisfied: pyphen in /Users/mingyu/opt/anaconda3/lib/python3.9/site-packages (0.14.0)\n",
      "\n",
      "\u001b[1m[\u001b[0m\u001b[34;49mnotice\u001b[0m\u001b[1;39;49m]\u001b[0m\u001b[39;49m A new release of pip is available: \u001b[0m\u001b[31;49m23.2.1\u001b[0m\u001b[39;49m -> \u001b[0m\u001b[32;49m23.3.1\u001b[0m\n",
      "\u001b[1m[\u001b[0m\u001b[34;49mnotice\u001b[0m\u001b[1;39;49m]\u001b[0m\u001b[39;49m To update, run: \u001b[0m\u001b[32;49mpip install --upgrade pip\u001b[0m\n"
     ]
    }
   ],
   "source": [
    "!pip install pyphen"
   ]
  },
  {
   "cell_type": "code",
   "execution_count": 9,
   "id": "4e8e7056-41be-4aa6-b36f-5cb7c45514a3",
   "metadata": {},
   "outputs": [],
   "source": [
    "import string\n",
    "import numpy as np\n",
    "import pyphen\n",
    "import seaborn as sns\n",
    "import matplotlib.pyplot as plt"
   ]
  },
  {
   "cell_type": "code",
   "execution_count": 10,
   "id": "55038ab4-7860-40be-91a7-69071525e658",
   "metadata": {},
   "outputs": [],
   "source": [
    "# initialize the syllabifier for English\n",
    "dic = pyphen.Pyphen(lang='en')"
   ]
  },
  {
   "cell_type": "code",
   "execution_count": 11,
   "id": "6a4c88f2-b79a-4c45-adef-4de012bca6f1",
   "metadata": {},
   "outputs": [],
   "source": [
    "# line tokenizer: read peoms in line by line\n",
    "def store_lines(text):\n",
    "    lines = [line.replace('\\t', ' ').strip() for line in text.split('\\n') if line and line.strip()]\n",
    "    return lines"
   ]
  },
  {
   "cell_type": "code",
   "execution_count": 12,
   "id": "ad9ab244-20e9-4e86-b4c4-abf187df29de",
   "metadata": {},
   "outputs": [],
   "source": [
    "def get_syllables(poem):\n",
    "    \n",
    "    lines = store_lines(poem)\n",
    "    tokenized_lines = [nltk.word_tokenize(line.lower()) for line in lines]\n",
    "    SYL = []\n",
    "    roman = 0\n",
    "    RI = {}\n",
    "    \n",
    "    for line in tokenized_lines:\n",
    "        syllables = []\n",
    "        for word in line:\n",
    "            # syllabify each line into individual syllables\n",
    "            syllables.extend(dic.inserted(word).split('-'))\n",
    "            # check if the poem has verse indicator - Roman numerals\n",
    "            if word in [\"ii\", \"iii\", \"iv\", \"v\", \"vi\"]:\n",
    "                roman += 1\n",
    "        SYL.append((syllables, len(syllables)))\n",
    "    \n",
    "    i = 0\n",
    "    feat = {}\n",
    "    for line, count in SYL:\n",
    "    # each feature would be each line, the corresponding value is the number of syllable for that line\n",
    "        feat[i+1] = count\n",
    "        i += 1\n",
    "    \n",
    "    # adding another feature at the beginning to indicate whether the poem has multiple verses\n",
    "    if roman > 0:\n",
    "        RI[0] = 1\n",
    "    else:\n",
    "        RI[0] = 0\n",
    "    \n",
    "    RI.update(feat)\n",
    "    \n",
    "    return RI"
   ]
  },
  {
   "cell_type": "code",
   "execution_count": 13,
   "id": "f216d3bf-bd40-484c-bf08-59862a5fff49",
   "metadata": {
    "tags": []
   },
   "outputs": [],
   "source": [
    "def dicts_to_arrays(dict_list):\n",
    "    \n",
    "    # since poems have different lengths, creating a matrix with empty lines padded with 0\n",
    "    max_key = max(max(d.keys(), default=-1) for d in dict_list) + 1\n",
    "    arrays = []\n",
    "    for d in dict_list:\n",
    "        array = [d.get(i, 0) for i in range(max_key)]\n",
    "        arrays.append(array)\n",
    "    \n",
    "    return arrays"
   ]
  },
  {
   "cell_type": "code",
   "execution_count": 14,
   "id": "3b2afdbc-f29b-4611-b405-bbe6b47b6604",
   "metadata": {},
   "outputs": [],
   "source": [
    "def fancy_featurize_all(haiku, others):\n",
    "    feature_vocab = {}\n",
    "    data = []\n",
    "    Y = []\n",
    "    \n",
    "    for idx, h in enumerate(haiku):\n",
    "        #print(\"haiku\", idx, get_syllables_2(h))\n",
    "        data.append(get_syllables(h))\n",
    "        Y.append(1)\n",
    "    \n",
    "    for idx, p in enumerate(others):\n",
    "        #print(\"other\", idx, get_syllables_2(p))\n",
    "        data.append(get_syllables(p))\n",
    "        Y.append(0)\n",
    "    \n",
    "    X = np.array(dicts_to_arrays(data))\n",
    "    temp = list(zip(X, Y))\n",
    "    random.shuffle(temp)\n",
    "    X, Y = zip(*temp)\n",
    "    \n",
    "    return X, Y, feature_vocab"
   ]
  },
  {
   "cell_type": "code",
   "execution_count": 15,
   "id": "a32653a2-7e27-4f72-8e07-d039837fe6df",
   "metadata": {
    "tags": []
   },
   "outputs": [
    {
     "name": "stdout",
     "output_type": "stream",
     "text": [
      "0.079 NMI\n"
     ]
    }
   ],
   "source": [
    "run_all(haiku, others, fancy_featurize_all)"
   ]
  },
  {
   "cell_type": "markdown",
   "id": "5feda2b4",
   "metadata": {},
   "source": [
    "**Q2**: Describe your method for featurization in 100 words and why you expect it to be able to separate haiku poems from non-haiku poems in this data."
   ]
  },
  {
   "cell_type": "markdown",
   "id": "77b38fe3-0fc6-4384-9d12-8079289971fa",
   "metadata": {},
   "source": [
    "For this task, I did not go for any methods involving pre-trained or fine-tuned embeddings, but I tried to solve it by referring to the analytical features found in haiku.\n",
    "\n",
    "What I did first was to keep track of the syllable count for each line to capture the difference between haiku and other poems. Although it is not always the case that English haikus follow the syllable pattern observed in Japanese haikus, they are still short in terms of syllable count for each line. The first histogram, showing the distribution of syllable counts for each line, illustrates this point.\n",
    "\n",
    "Another analytical feature is that English haikus tend to be shorter compared to non-haikus. Again, this is not always the case but it's worth a try. This feature is implicitly encoded, with each feature representing a line. There are definitely short poems, and in this case, features for empty lines are padded with 0. The second histogram below shows the distribution of the total length of a haiku/non-haiku.\n",
    "\n",
    "The final analytical feature is to encode whether the poem has multiple verses or stanzas, which are ordered by Roman numerals (I, II, III, etc.). This is binary coding, either 0 or 1.\n",
    "\n",
    "Although these features make sense to me, the results are not as ideal as I hoped. I find this experiment interesting because all of the features are not relevant to the content or semantics of the poem but are more pertinent to the style. I'm sure that features encoding the semantics of the poem might help, but it's worth a try to see how much the style matters in terms of clustering these two categories."
   ]
  },
  {
   "cell_type": "code",
   "execution_count": 16,
   "id": "2d1ae5b8-1472-4d62-8814-211b7628dc1d",
   "metadata": {},
   "outputs": [],
   "source": [
    "SYL_AVG_others = []\n",
    "LEN_MAX_others = []\n",
    "for poem in others:\n",
    "    SYL_AVG_others.append(np.mean([count for line, count in get_syllables(poem).items()]))\n",
    "    LEN_MAX_others.append(np.max([line for line, count in get_syllables(poem).items()]))"
   ]
  },
  {
   "cell_type": "code",
   "execution_count": 17,
   "id": "ce001773-a2a1-4750-bcf3-a79737b80ba6",
   "metadata": {
    "tags": []
   },
   "outputs": [],
   "source": [
    "SYL_AVG_haiku = []\n",
    "LEN_MAX_haiku = []\n",
    "for poem in haiku:\n",
    "    SYL_AVG_haiku.append(np.mean([count for line, count in get_syllables(poem).items()]))\n",
    "    LEN_MAX_haiku.append(np.max([line for line, count in get_syllables(poem).items()]))"
   ]
  },
  {
   "cell_type": "code",
   "execution_count": 18,
   "id": "56a2573e-626d-49b7-bba9-1ae7d3bedc57",
   "metadata": {},
   "outputs": [
    {
     "data": {
      "image/png": "[encoded data removed]",
      "text/plain": [
       "<Figure size 432x288 with 1 Axes>"
      ]
     },
     "metadata": {
      "needs_background": "light"
     },
     "output_type": "display_data"
    }
   ],
   "source": [
    "sns.histplot(SYL_AVG_haiku, bins=40, color='orange', kde=True)\n",
    "sns.histplot(SYL_AVG_others, bins=40, kde=True)\n",
    "plt.legend(labels=['haiku', 'others'])\n",
    "plt.title('Distribution of syllable count for each line');"
   ]
  },
  {
   "cell_type": "code",
   "execution_count": 19,
   "id": "c54c18bf-047d-4671-b78e-e18b594d3cef",
   "metadata": {},
   "outputs": [
    {
     "data": {
      "image/png": "[encoded data removed]",
      "text/plain": [
       "<Figure size 432x288 with 1 Axes>"
      ]
     },
     "metadata": {
      "needs_background": "light"
     },
     "output_type": "display_data"
    }
   ],
   "source": [
    "sns.histplot(LEN_MAX_haiku, bins=30, color='orange', kde=True, log_scale=True)\n",
    "sns.histplot(LEN_MAX_others, bins=30, kde=True, log_scale=True)\n",
    "plt.legend(labels=['haiku', 'others'])\n",
    "plt.title('Distribution of poem length');"
   ]
  }
 ],
 "metadata": {
  "kernelspec": {
   "display_name": "Python 3 (ipykernel)",
   "language": "python",
   "name": "python3"
  },
  "language_info": {
   "codemirror_mode": {
    "name": "ipython",
    "version": 3
   },
   "file_extension": ".py",
   "mimetype": "text/x-python",
   "name": "python",
   "nbconvert_exporter": "python",
   "pygments_lexer": "ipython3",
   "version": "3.9.12"
  }
 },
 "nbformat": 4,
 "nbformat_minor": 5
}
