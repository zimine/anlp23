{
  "nbformat": 4,
  "nbformat_minor": 0,
  "metadata": {
    "colab": {
      "provenance": [],
      "gpuType": "T4"
    },
    "kernelspec": {
      "name": "python3",
      "display_name": "Python 3"
    },
    "language_info": {
      "name": "python"
    },
    "accelerator": "GPU"
  },
  "cells": [
    {
      "cell_type": "markdown",
      "source": [
        "This notebook explores the use of SentenceBERT to generate representations of sequences (sentences, documents) and clustering those representations using K-means."
      ],
      "metadata": {
        "id": "zZWo_wE_U0i4"
      }
    },
    {
      "cell_type": "code",
      "execution_count": null,
      "metadata": {
        "id": "xsLXe22vZRyY"
      },
      "outputs": [],
      "source": [
        "!pip install sentence-transformers"
      ]
    },
    {
      "cell_type": "code",
      "source": [
        "# Get movies summaries and book titles to cluster\n",
        "!wget https://raw.githubusercontent.com/dbamman/anlp23/main/data/plot_summaries.txt\n",
        "!wget https://raw.githubusercontent.com/dbamman/anlp23/main/data/loc/dev.tsv -O book_titles.txt"
      ],
      "metadata": {
        "id": "SEvo_V2kZcf5"
      },
      "execution_count": null,
      "outputs": []
    },
    {
      "cell_type": "code",
      "source": [
        "from sklearn.cluster import KMeans\n",
        "from math import sqrt\n",
        "from sentence_transformers import SentenceTransformer\n",
        "import numpy as np"
      ],
      "metadata": {
        "id": "cPnLGCaGSOGN"
      },
      "execution_count": null,
      "outputs": []
    },
    {
      "cell_type": "code",
      "source": [
        "def read_data(filename):\n",
        "    data=[]\n",
        "    with open(filename, encoding=\"utf-8\") as file:\n",
        "        for line in file:\n",
        "            cols=line.rstrip().split(\"\\t\")\n",
        "            idd=cols[0]\n",
        "            summary=cols[1]\n",
        "            data.append((idd, summary))\n",
        "    return data"
      ],
      "metadata": {
        "id": "j04I_-NfZZEM"
      },
      "execution_count": null,
      "outputs": []
    },
    {
      "cell_type": "code",
      "source": [
        "movies=read_data(\"plot_summaries.txt\")\n",
        "book_titles=read_data(\"book_titles.txt\")"
      ],
      "metadata": {
        "id": "_VviGH3nZiiH"
      },
      "execution_count": null,
      "outputs": []
    },
    {
      "cell_type": "code",
      "source": [
        "sentence_model = SentenceTransformer('sentence-transformers/all-distilroberta-v1')"
      ],
      "metadata": {
        "id": "SmChmfWtZmYc"
      },
      "execution_count": null,
      "outputs": []
    },
    {
      "cell_type": "code",
      "source": [
        "embedding=sentence_model.encode(\"this is a sentence\")\n",
        "print(embedding.shape)"
      ],
      "metadata": {
        "id": "HacVXkwQaU9V"
      },
      "execution_count": null,
      "outputs": []
    },
    {
      "cell_type": "code",
      "source": [
        "def cosine(one, two):\n",
        "  return np.dot(one,two)/(sqrt(np.dot(one,one)) * sqrt(np.dot(two,two)))"
      ],
      "metadata": {
        "id": "YjWG2l73O5MB"
      },
      "execution_count": null,
      "outputs": []
    },
    {
      "cell_type": "code",
      "source": [
        "def run_all(data, model, num_clusters=10):\n",
        "\n",
        "    X=[]\n",
        "\n",
        "    # Get sentence embeddings for each doc\n",
        "    for idx, doc in data:\n",
        "      embedding=model.encode(doc)\n",
        "      X.append(embedding)\n",
        "\n",
        "    X=np.array(X)\n",
        "\n",
        "    # Run K-means\n",
        "    kmeans = KMeans(n_clusters=num_clusters, random_state=0).fit(X)\n",
        "\n",
        "    # For each cluster, print out the n documents closest to the cluster center\n",
        "    clusters={}\n",
        "    for idx, label in enumerate(kmeans.labels_):\n",
        "      if label not in clusters:\n",
        "        clusters[label]=[]\n",
        "      clusters[label].append((idx, data[idx][1]))\n",
        "\n",
        "    for label in clusters:\n",
        "      sims={}\n",
        "      cluster_center=kmeans.cluster_centers_[label]\n",
        "      for idx, doc in clusters[label]:\n",
        "        sim=cosine(cluster_center, X[idx])\n",
        "        sims[idx]=sim\n",
        "      for k, v in sorted(sims.items(), key=lambda item: item[1], reverse=True)[:5]:\n",
        "        print(k,\"%.3f\" % v, data[k][1])\n",
        "\n",
        "      print()\n"
      ],
      "metadata": {
        "id": "_wi9-2aAay34"
      },
      "execution_count": null,
      "outputs": []
    },
    {
      "cell_type": "markdown",
      "source": [
        "# Book titles"
      ],
      "metadata": {
        "id": "L_hOcnwzVgV9"
      }
    },
    {
      "cell_type": "code",
      "source": [
        "run_all(book_titles[:1000], sentence_model, num_clusters=10)"
      ],
      "metadata": {
        "id": "OrddyPw1bHdG"
      },
      "execution_count": null,
      "outputs": []
    },
    {
      "cell_type": "markdown",
      "source": [
        "# Movie summaries"
      ],
      "metadata": {
        "id": "HxDLind6VSTy"
      }
    },
    {
      "cell_type": "code",
      "source": [
        "run_all(movies[:100], sentence_model, num_clusters=10)"
      ],
      "metadata": {
        "id": "ngWb-mi8bLfy"
      },
      "execution_count": null,
      "outputs": []
    },
    {
      "cell_type": "markdown",
      "source": [
        "A1: Play around with this method and vary the number of movies clustered, along with the number of clusters.  How would you rate the coherence and interepretability of these clusters? Try to label some of the clusters and discuss with your neighbors about the overall coherence. Download (File > Download > .ipynb) and upload this notebook at the end of class.)"
      ],
      "metadata": {
        "id": "-GgrP1OqVvU4"
      }
    },
    {
      "cell_type": "code",
      "source": [],
      "metadata": {
        "id": "2dzUxKcPWHyb"
      },
      "execution_count": null,
      "outputs": []
    }
  ]
}