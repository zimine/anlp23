{
 "cells": [
  {
   "cell_type": "markdown",
   "id": "0e3f9bea",
   "metadata": {},
   "source": [
    "For our in-class exercise today, you worked with a team to formalize the distiction between subjectivity vs. objectivity.  Now you will annotate a new set of documents with your formalization and create a minimal set of guidelines reflecting your interpretation of that concept."
   ]
  },
  {
   "cell_type": "markdown",
   "id": "6b7f3c4b",
   "metadata": {},
   "source": [
    "**Q1**. In ~100-200 words, describe your definition of subjective and objective texts. (This can be the same description as your in-class group activity.)"
   ]
  },
  {
   "cell_type": "markdown",
   "id": "32d145c2",
   "metadata": {},
   "source": [
    "**Q2**. Annotate the data in `data/subjective_objective.tsv` using this definition.  Your annotation should consist entirely of putting either \"subjective\" or \"objective\" in the first column of that file.  Don't discuss these annotations with anyone else (including your class group) -- they should be *independent* at this point.  You'll upload this file to bCourses along with this completed notebook."
   ]
  },
  {
   "cell_type": "markdown",
   "id": "0129968e",
   "metadata": {},
   "source": [
    "**Q3**. From those annotations, pull out 15 examples that characterize the ends of this concept and the boundary between them. These 15 examples should be:\n",
    "\n",
    "* 5 clearly objective documents\n",
    "* 5 clearly subjective documents\n",
    "* 5 documents on the boundary between the two classes; for each of these 5 examples, explain why they might be confusing, how they should be annotated in your system, and any general principles we should take away from the example that we should use to guide our annotation of similar cases of ambiguity.\n",
    "\n",
    "Go ahead and put these examples in this notebook."
   ]
  },
  {
   "cell_type": "code",
   "execution_count": null,
   "id": "2c5d485f",
   "metadata": {},
   "outputs": [],
   "source": [
    "    "
   ]
  }
 ],
 "metadata": {
  "kernelspec": {
   "display_name": "Python 3 (ipykernel)",
   "language": "python",
   "name": "python3"
  },
  "language_info": {
   "codemirror_mode": {
    "name": "ipython",
    "version": 3
   },
   "file_extension": ".py",
   "mimetype": "text/x-python",
   "name": "python",
   "nbconvert_exporter": "python",
   "pygments_lexer": "ipython3",
   "version": "3.8.3"
  }
 },
 "nbformat": 4,
 "nbformat_minor": 5
}
