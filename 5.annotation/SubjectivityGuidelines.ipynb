{
 "cells": [
  {
   "cell_type": "markdown",
   "id": "0e3f9bea",
   "metadata": {},
   "source": [
    "For our in-class exercise today, you worked with a team to formalize the distiction between subjectivity vs. objectivity.  Now you will annotate a new set of documents with your formalization and create a minimal set of guidelines reflecting your interpretation of that concept."
   ]
  },
  {
   "cell_type": "markdown",
   "id": "6b7f3c4b",
   "metadata": {},
   "source": [
    "**Q1**. In ~100-200 words, describe your definition of subjective and objective texts. (This can be the same description as your in-class group activity.)\n",
    "\n",
    "Our definition of subjectivity/objectivity concerns the following aspects:\n",
    "1. The truth value of the statement: if the statement is true (e.g. in line with facts and common sense), it should assessed as objective. \n",
    "2. The condition of the statement: if the statement includes conditions such as `if...`, `about...`, and `likely...`, it should be assessed as objective. \n",
    "3. The accepetability of the statement: if the statement is widely-accepted/acknowledged, it should be assessed as objective. \n",
    "4. The source of the statement: if the statement is quoted from other people, it should be assessed as objective. \n",
    "5. The use of adjectives: if the statement include superlatives of adjectives, it is more likely for the statement to be subjective. "
   ]
  },
  {
   "cell_type": "markdown",
   "id": "32d145c2",
   "metadata": {},
   "source": [
    "**Q2**. Annotate the data in `data/subjective_objective.tsv` using this definition.  Your annotation should consist entirely of putting either \"subjective\" or \"objective\" in the first column of that file.  Don't discuss these annotations with anyone else (including your class group) -- they should be *independent* at this point.  You'll upload this file to bCourses along with this completed notebook."
   ]
  },
  {
   "cell_type": "markdown",
   "id": "0129968e",
   "metadata": {},
   "source": [
    "**Q3**. From those annotations, pull out 15 examples that characterize the ends of this concept and the boundary between them. These 15 examples should be:\n",
    "\n",
    "* 5 clearly objective documents\n",
    "* 5 clearly subjective documents\n",
    "* 5 documents on the boundary between the two classes; for each of these 5 examples, explain why they might be confusing, how they should be annotated in your system, and any general principles we should take away from the example that we should use to guide our annotation of similar cases of ambiguity.\n",
    "\n",
    "Go ahead and put these examples in this notebook."
   ]
  },
  {
   "cell_type": "markdown",
   "id": "8c2ea4f4-2afd-4c28-8810-d18bb0767c24",
   "metadata": {},
   "source": [
    "---\n",
    "**5 clearly objective statementss**\n",
    "\n",
    "- 2 + 2 = 4.\n",
    "- Berkeley time starts at 10 minutes after the official time.\n",
    "- John Krasinski is married to Emily Blunt.\n",
    "- It's raining outside.\n",
    "- A stronger core makes everyday life easier, too, resulting in fewer injuries, better posture and balance and less back pain.\n",
    "\n",
    "---\n",
    "**5 clearly subjective statements**\n",
    "\n",
    "- NLP is the best subfield of AI.\n",
    "- This is the saddest story I have ever heard.\n",
    "- That is the cutest cat I have ever seen.\n",
    "- I'm think it's raining outside.\n",
    "- John Krasinski loves Emily Blunt.\n",
    "\n",
    "---\n",
    "**5 ambiguous statements**\n",
    "- These little cupcakes are light, fluffy and packed with bright lemon flavor. \n",
    "\n",
    "At first I'm very much inclined to label this statement `subjective`, because it does include descriptive terms such as `light`, `fluffy`, and `lemon`, which are all personal experiences. It is confusing though, because the description could be true and widely accepted, which would make it more objective than it sounds. \n",
    "\n",
    "- This was the hardest test John had taken in a long time.\n",
    "\n",
    "This statement is different from `This is the saddest story I have ever heard`, which is clearly subjective as it's one's personal judgement of a movie. However, this statement is more about describing John's situation as taking a very hard test rather than making a direct assessment of the test's difficulty. In this sense, it could be seen as leaning more towards an objective description of the circumstances.\n",
    "\n",
    "- By my count, there are 10 movies by actor-turned-directors at this year’s Toronto International Film Festival.\n",
    "\n",
    "Again, at first sight, this statement may sound very subjective (`by my count`). This does not mean that the number of the movies made by actor-turned-directors couldn't happen to the same as someone's count. It seems that as long as the statement provides a verified argument, it could be objective. \n",
    "\n",
    "- When used for text generation, LLMs have a tendency to invent facts. \n",
    "\n",
    "This statement is very deceptive as it has conditions such as `when used for` and `a tendency to`, which limit the areas where the argument `LLMs invent facts` could apply. It may sound very objective at first. On second thought, given that the statement is referring a rapidly-changing area of research, the truth value of whether LLMs are facts inventors changes everyday, depending on the task and model people use to generate the text. In a case where the truth value is uncertain, I'm inclined to say it is more subjective. \n",
    "\n",
    "- The traffic on I-80 west is pretty bad right now.\n",
    "\n",
    "This statement is analogous to the first and third statements in this category. It may sound very subjective but we don't know if the situation described is 1) widely accepted or 2) true. If so, the statement should be an objective one.\n",
    "\n",
    "\n",
    "In general, it feels to me that these statements are ambiguous to judge because it does not provide enough verifiable details for readers to assess the truth value, or the truth value is itself uncertain at the moment. Some statements may have very different results based on the annotator's knowledge, for example, someone who doesn't have any driving experience on I-80 may tend to say the statement is subjective but an experienced driver may tend to say it is objective. In addition to knowledge, the annotator's sentiment towards the object/situation described in the statement may also influence their interpretation of statements. That said, variation we see from annotators is very valuable for us to include in a classification model, or a place for us to think about when interpretating the results of a classifier."
   ]
  }
 ],
 "metadata": {
  "kernelspec": {
   "display_name": "Python 3 (ipykernel)",
   "language": "python",
   "name": "python3"
  },
  "language_info": {
   "codemirror_mode": {
    "name": "ipython",
    "version": 3
   },
   "file_extension": ".py",
   "mimetype": "text/x-python",
   "name": "python",
   "nbconvert_exporter": "python",
   "pygments_lexer": "ipython3",
   "version": "3.11.4"
  }
 },
 "nbformat": 4,
 "nbformat_minor": 5
}
