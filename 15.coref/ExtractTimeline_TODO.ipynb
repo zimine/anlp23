{
  "nbformat": 4,
  "nbformat_minor": 0,
  "metadata": {
    "colab": {
      "provenance": []
    },
    "kernelspec": {
      "name": "python3",
      "display_name": "Python 3"
    },
    "language_info": {
      "name": "python"
    }
  },
  "cells": [
    {
      "cell_type": "markdown",
      "source": [
        "This homework explores coreference resolution for the task of timeline generation: for a given biography on Wikipedia, can you extract all of the events associated with the people mentioned and create one timeline for each person?  "
      ],
      "metadata": {
        "id": "Ub3bJmkN1Yef"
      }
    },
    {
      "cell_type": "code",
      "source": [
        "!pip install spacy==3.2\n",
        "!python3 -m spacy download en_core_web_sm\n",
        "!python3 -m pip install coreferee\n",
        "!python3 -m coreferee install en\n",
        "!pip install wikipedia"
      ],
      "metadata": {
        "id": "yiK1Jl_E1Y86"
      },
      "execution_count": null,
      "outputs": []
    },
    {
      "cell_type": "code",
      "source": [
        "import coreferee, spacy\n",
        "nlp = spacy.load('en_core_web_sm')\n",
        "nlp.add_pipe('coreferee')"
      ],
      "metadata": {
        "id": "xoaWSxng1yab"
      },
      "execution_count": null,
      "outputs": []
    },
    {
      "cell_type": "code",
      "source": [
        "import wikipedia\n",
        "import re\n",
        "import operator"
      ],
      "metadata": {
        "id": "C9_AQrKw10jZ"
      },
      "execution_count": null,
      "outputs": []
    },
    {
      "cell_type": "code",
      "source": [
        "biography = wikipedia.page(\"Harrison Ford\", auto_suggest=False)"
      ],
      "metadata": {
        "id": "X-HkuSIh17AE"
      },
      "execution_count": null,
      "outputs": []
    },
    {
      "cell_type": "code",
      "source": [
        "doc=nlp(biography.content)"
      ],
      "metadata": {
        "id": "SjC3mxmr18kR"
      },
      "execution_count": null,
      "outputs": []
    },
    {
      "cell_type": "markdown",
      "source": [
        "Q1. Create a method `extract_timeline` to construct a timeline for the subject of the Wikipedia biography; the timeline should be comprised of events (i.e., verbs) in the biography that the subject participates in and that can be grounded to a year. Your criteria:\n",
        "\n",
        "- Only include events in sentences that contain a year.\n",
        "- Only include events that the target of the Wikipedia biography is involved in.\n",
        "- Only include events where that target person is the subject or direct object of the verb.\n",
        "\n",
        "Your function should return a dict mapping a sentence where those criteria are satisfied to the date mentioned in that sentence.  For example, assume the following to be a biography of the target *Bach*:\n",
        "\n",
        "> Bach is a composer.  He was born in 1685.  He composed 6 suites for solo cello in 1717. Anna Magdalena Wilcke met him in 1721.  Handel was a contemporary and was also born in 1685. Bach's dog was born in 1723.  \n",
        "\n",
        "Your function should return the following dict:\n",
        "\n",
        "{\"He was born in 1685\": 1685, \"He composed 6 suites for solo cello in 1717\": 1717, \"Anna Magdalena Wilcke met him in 1721\": 1721}\n",
        "\n",
        "We exclude the other sentences because:\n",
        "\n",
        "- \"Bach is a composer\" does not mention a date.\n",
        "- Bach is not mentioned in \"Handel was a contemporary and was also born in 1685.\"\n",
        "- Bach is not the subject or direct object of \"Bach's dog was born in 1723\""
      ],
      "metadata": {
        "id": "cOOldwao1-uj"
      }
    },
    {
      "cell_type": "code",
      "source": [
        "def extract_timeline(doc):\n",
        "\n",
        "    events={}\n",
        "\n",
        "    # your code here\n",
        "\n",
        "    return events"
      ],
      "metadata": {
        "id": "J4GQ8pke1_Om"
      },
      "execution_count": null,
      "outputs": []
    },
    {
      "cell_type": "markdown",
      "source": [
        "Let's print that extracted timeline from oldest to newest events."
      ],
      "metadata": {
        "id": "xXx3IR-E2EB4"
      }
    },
    {
      "cell_type": "code",
      "source": [
        "events=extract_timeline(doc)\n",
        "for k,v in sorted(events.items(), key=operator.itemgetter(1)):\n",
        "    print(\"%s\\t%s\" % (v, k))"
      ],
      "metadata": {
        "id": "oYlV_J_32A94"
      },
      "execution_count": null,
      "outputs": []
    }
  ]
}