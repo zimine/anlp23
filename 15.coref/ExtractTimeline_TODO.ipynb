{
 "cells": [
  {
   "cell_type": "markdown",
   "metadata": {
    "id": "Ub3bJmkN1Yef"
   },
   "source": [
    "This homework explores coreference resolution for the task of timeline generation: for a given biography on Wikipedia, can you extract all of the events associated with the people mentioned and create one timeline for each person?  "
   ]
  },
  {
   "cell_type": "code",
   "execution_count": null,
   "metadata": {
    "id": "yiK1Jl_E1Y86",
    "tags": []
   },
   "outputs": [
    {
     "name": "stdout",
     "output_type": "stream",
     "text": [
      "Collecting spacy==3.2\n",
      "  Downloading spacy-3.2.0.tar.gz (1.1 MB)\n",
      "\u001b[2K     \u001b[90m━━━━━━━━━━━━━━━━━━━━━━━━━━━━━━━━━━━━━━━━\u001b[0m \u001b[32m1.1/1.1 MB\u001b[0m \u001b[31m6.5 MB/s\u001b[0m eta \u001b[36m0:00:00\u001b[0m00:01\u001b[0m00:01\u001b[0m\n",
      "\u001b[?25h  Installing build dependencies ... \u001b[?25ldone\n",
      "\u001b[?25h  Getting requirements to build wheel ... \u001b[?25ldone\n",
      "\u001b[?25h  Installing backend dependencies ... \u001b[?25ldone\n",
      "\u001b[?25h  Preparing metadata (pyproject.toml) ... \u001b[?25ldone\n",
      "\u001b[?25hRequirement already satisfied: spacy-legacy<3.1.0,>=3.0.8 in /Users/mingyu/opt/anaconda3/envs/anlp/lib/python3.11/site-packages (from spacy==3.2) (3.0.12)\n",
      "Requirement already satisfied: spacy-loggers<2.0.0,>=1.0.0 in /Users/mingyu/opt/anaconda3/envs/anlp/lib/python3.11/site-packages (from spacy==3.2) (1.0.4)\n",
      "Requirement already satisfied: murmurhash<1.1.0,>=0.28.0 in /Users/mingyu/opt/anaconda3/envs/anlp/lib/python3.11/site-packages (from spacy==3.2) (1.0.9)\n",
      "Requirement already satisfied: cymem<2.1.0,>=2.0.2 in /Users/mingyu/opt/anaconda3/envs/anlp/lib/python3.11/site-packages (from spacy==3.2) (2.0.7)\n",
      "Requirement already satisfied: preshed<3.1.0,>=3.0.2 in /Users/mingyu/opt/anaconda3/envs/anlp/lib/python3.11/site-packages (from spacy==3.2) (3.0.8)\n",
      "Collecting thinc<8.1.0,>=8.0.12 (from spacy==3.2)\n",
      "  Using cached thinc-8.0.17-cp311-cp311-macosx_10_9_x86_64.whl\n",
      "Requirement already satisfied: blis<0.8.0,>=0.4.0 in /Users/mingyu/opt/anaconda3/envs/anlp/lib/python3.11/site-packages (from spacy==3.2) (0.7.10)\n",
      "Collecting wasabi<1.1.0,>=0.8.1 (from spacy==3.2)\n",
      "  Using cached wasabi-0.10.1-py3-none-any.whl (26 kB)\n",
      "Requirement already satisfied: srsly<3.0.0,>=2.4.1 in /Users/mingyu/opt/anaconda3/envs/anlp/lib/python3.11/site-packages (from spacy==3.2) (2.4.7)\n",
      "Requirement already satisfied: catalogue<2.1.0,>=2.0.6 in /Users/mingyu/opt/anaconda3/envs/anlp/lib/python3.11/site-packages (from spacy==3.2) (2.0.9)\n",
      "Collecting typer<0.5.0,>=0.3.0 (from spacy==3.2)\n",
      "  Downloading typer-0.4.2-py3-none-any.whl (27 kB)\n",
      "Requirement already satisfied: pathy>=0.3.5 in /Users/mingyu/opt/anaconda3/envs/anlp/lib/python3.11/site-packages (from spacy==3.2) (0.10.2)\n",
      "Requirement already satisfied: tqdm<5.0.0,>=4.38.0 in /Users/mingyu/opt/anaconda3/envs/anlp/lib/python3.11/site-packages (from spacy==3.2) (4.65.0)\n",
      "Requirement already satisfied: numpy>=1.15.0 in /Users/mingyu/opt/anaconda3/envs/anlp/lib/python3.11/site-packages (from spacy==3.2) (1.24.3)\n",
      "Requirement already satisfied: requests<3.0.0,>=2.13.0 in /Users/mingyu/opt/anaconda3/envs/anlp/lib/python3.11/site-packages (from spacy==3.2) (2.31.0)\n",
      "Collecting pydantic!=1.8,!=1.8.1,<1.9.0,>=1.7.4 (from spacy==3.2)\n",
      "  Using cached pydantic-1.8.2-py3-none-any.whl (126 kB)\n",
      "Requirement already satisfied: jinja2 in /Users/mingyu/opt/anaconda3/envs/anlp/lib/python3.11/site-packages (from spacy==3.2) (3.1.2)\n",
      "Requirement already satisfied: setuptools in /Users/mingyu/opt/anaconda3/envs/anlp/lib/python3.11/site-packages (from spacy==3.2) (68.0.0)\n",
      "Requirement already satisfied: packaging>=20.0 in /Users/mingyu/opt/anaconda3/envs/anlp/lib/python3.11/site-packages (from spacy==3.2) (23.1)\n",
      "Requirement already satisfied: langcodes<4.0.0,>=3.2.0 in /Users/mingyu/opt/anaconda3/envs/anlp/lib/python3.11/site-packages (from spacy==3.2) (3.3.0)\n",
      "Requirement already satisfied: smart-open<7.0.0,>=5.2.1 in /Users/mingyu/opt/anaconda3/envs/anlp/lib/python3.11/site-packages (from pathy>=0.3.5->spacy==3.2) (5.2.1)\n",
      "Requirement already satisfied: typing-extensions>=3.7.4.3 in /Users/mingyu/opt/anaconda3/envs/anlp/lib/python3.11/site-packages (from pydantic!=1.8,!=1.8.1,<1.9.0,>=1.7.4->spacy==3.2) (4.7.1)\n",
      "Requirement already satisfied: charset-normalizer<4,>=2 in /Users/mingyu/opt/anaconda3/envs/anlp/lib/python3.11/site-packages (from requests<3.0.0,>=2.13.0->spacy==3.2) (3.2.0)\n",
      "Requirement already satisfied: idna<4,>=2.5 in /Users/mingyu/opt/anaconda3/envs/anlp/lib/python3.11/site-packages (from requests<3.0.0,>=2.13.0->spacy==3.2) (3.4)\n",
      "Requirement already satisfied: urllib3<3,>=1.21.1 in /Users/mingyu/opt/anaconda3/envs/anlp/lib/python3.11/site-packages (from requests<3.0.0,>=2.13.0->spacy==3.2) (2.0.4)\n",
      "Requirement already satisfied: certifi>=2017.4.17 in /Users/mingyu/opt/anaconda3/envs/anlp/lib/python3.11/site-packages (from requests<3.0.0,>=2.13.0->spacy==3.2) (2023.7.22)\n",
      "Requirement already satisfied: click<9.0.0,>=7.1.1 in /Users/mingyu/opt/anaconda3/envs/anlp/lib/python3.11/site-packages (from typer<0.5.0,>=0.3.0->spacy==3.2) (8.0.4)\n",
      "Requirement already satisfied: MarkupSafe>=2.0 in /Users/mingyu/opt/anaconda3/envs/anlp/lib/python3.11/site-packages (from jinja2->spacy==3.2) (2.1.3)\n",
      "Building wheels for collected packages: spacy\n",
      "  Building wheel for spacy (pyproject.toml) ... \u001b[?25l\\"
     ]
    }
   ],
   "source": [
    "!pip install spacy==3.2\n",
    "!python3 -m spacy download en_core_web_sm\n",
    "!python3 -m pip install coreferee\n",
    "!python3 -m coreferee install en\n",
    "!pip install wikipedia"
   ]
  },
  {
   "cell_type": "code",
   "execution_count": null,
   "metadata": {
    "id": "xoaWSxng1yab"
   },
   "outputs": [],
   "source": [
    "import coreferee, spacy\n",
    "nlp = spacy.load('en_core_web_sm')\n",
    "nlp.add_pipe('coreferee')"
   ]
  },
  {
   "cell_type": "code",
   "execution_count": null,
   "metadata": {
    "id": "C9_AQrKw10jZ"
   },
   "outputs": [],
   "source": [
    "import wikipedia\n",
    "import re\n",
    "import operator"
   ]
  },
  {
   "cell_type": "code",
   "execution_count": null,
   "metadata": {
    "id": "X-HkuSIh17AE"
   },
   "outputs": [],
   "source": [
    "biography = wikipedia.page(\"Harrison Ford\", auto_suggest=False)"
   ]
  },
  {
   "cell_type": "code",
   "execution_count": null,
   "metadata": {
    "id": "SjC3mxmr18kR"
   },
   "outputs": [],
   "source": [
    "doc=nlp(biography.content)"
   ]
  },
  {
   "cell_type": "markdown",
   "metadata": {
    "id": "cOOldwao1-uj"
   },
   "source": [
    "Q1. Create a method `extract_timeline` to construct a timeline for the subject of the Wikipedia biography; the timeline should be comprised of events (i.e., verbs) in the biography that the subject participates in and that can be grounded to a year. Your criteria:\n",
    "\n",
    "- Only include events in sentences that contain a year.\n",
    "- Only include events that the target of the Wikipedia biography is involved in.\n",
    "- Only include events where that target person is the subject or direct object of the verb.\n",
    "\n",
    "Your function should return a dict mapping a sentence where those criteria are satisfied to the date mentioned in that sentence.  For example, assume the following to be a biography of the target *Bach*:\n",
    "\n",
    "> Bach is a composer.  He was born in 1685.  He composed 6 suites for solo cello in 1717. Anna Magdalena Wilcke met him in 1721.  Handel was a contemporary and was also born in 1685. Bach's dog was born in 1723.  \n",
    "\n",
    "Your function should return the following dict:\n",
    "\n",
    "{\"He was born in 1685\": 1685, \"He composed 6 suites for solo cello in 1717\": 1717, \"Anna Magdalena Wilcke met him in 1721\": 1721}\n",
    "\n",
    "We exclude the other sentences because:\n",
    "\n",
    "- \"Bach is a composer\" does not mention a date.\n",
    "- Bach is not mentioned in \"Handel was a contemporary and was also born in 1685.\"\n",
    "- Bach is not the subject or direct object of \"Bach's dog was born in 1723\""
   ]
  },
  {
   "cell_type": "code",
   "execution_count": null,
   "metadata": {
    "id": "J4GQ8pke1_Om"
   },
   "outputs": [],
   "source": [
    "def extract_timeline(doc):\n",
    "\n",
    "    events={}\n",
    "\n",
    "    # your code here\n",
    "\n",
    "    return events"
   ]
  },
  {
   "cell_type": "markdown",
   "metadata": {
    "id": "xXx3IR-E2EB4"
   },
   "source": [
    "Let's print that extracted timeline from oldest to newest events."
   ]
  },
  {
   "cell_type": "code",
   "execution_count": null,
   "metadata": {
    "id": "oYlV_J_32A94"
   },
   "outputs": [],
   "source": [
    "events=extract_timeline(doc)\n",
    "for k,v in sorted(events.items(), key=operator.itemgetter(1)):\n",
    "    print(\"%s\\t%s\" % (v, k))"
   ]
  }
 ],
 "metadata": {
  "colab": {
   "provenance": []
  },
  "kernelspec": {
   "display_name": "Python 3 (ipykernel)",
   "language": "python",
   "name": "python3"
  },
  "language_info": {
   "codemirror_mode": {
    "name": "ipython",
    "version": 3
   },
   "file_extension": ".py",
   "mimetype": "text/x-python",
   "name": "python",
   "nbconvert_exporter": "python",
   "pygments_lexer": "ipython3",
   "version": "3.11.4"
  }
 },
 "nbformat": 4,
 "nbformat_minor": 4
}
