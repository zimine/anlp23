{
  "nbformat": 4,
  "nbformat_minor": 0,
  "metadata": {
    "colab": {
      "provenance": []
    },
    "kernelspec": {
      "name": "python3",
      "display_name": "Python 3"
    },
    "language_info": {
      "name": "python"
    }
  },
  "cells": [
    {
      "cell_type": "markdown",
      "source": [
        "This notebook explores coreference resolution in Spacy using the `coreferee` library."
      ],
      "metadata": {
        "id": "qmudcPW_02yH"
      }
    },
    {
      "cell_type": "code",
      "execution_count": null,
      "metadata": {
        "id": "xwLpsc0U-0fe"
      },
      "outputs": [],
      "source": [
        "!pip install spacy==3.2\n",
        "!python3 -m spacy download en_core_web_sm"
      ]
    },
    {
      "cell_type": "code",
      "source": [
        "!python3 -m pip install coreferee"
      ],
      "metadata": {
        "id": "ZmrxSUyL-_xb"
      },
      "execution_count": null,
      "outputs": []
    },
    {
      "cell_type": "code",
      "source": [
        "!python3 -m coreferee install en"
      ],
      "metadata": {
        "id": "exgf827U_LAl"
      },
      "execution_count": null,
      "outputs": []
    },
    {
      "cell_type": "code",
      "source": [
        "import coreferee, spacy\n",
        "nlp = spacy.load('en_core_web_sm')\n",
        "nlp.add_pipe('coreferee')"
      ],
      "metadata": {
        "id": "_rPI8XW-_Oak"
      },
      "execution_count": null,
      "outputs": []
    },
    {
      "cell_type": "code",
      "source": [
        "doc1 = nlp(\"Although he was very busy with his work, Peter had had enough of it. He and his wife decided they needed a holiday. They travelled to Spain because they loved the country very much.\")"
      ],
      "metadata": {
        "id": "CceOaTrv_Z2-"
      },
      "execution_count": null,
      "outputs": []
    },
    {
      "cell_type": "code",
      "source": [
        "doc1._.coref_chains.print()"
      ],
      "metadata": {
        "id": "JFrEL8R3_a_G"
      },
      "execution_count": null,
      "outputs": []
    },
    {
      "cell_type": "markdown",
      "source": [
        "Coreference clusters can be found in the `_.coref_chains` attribute of `doc`. `_.coref_chains` is a list of mention *clusters* -- each *mention* is a span of tokens in the text and a cluster of such mentions are those spans that co-refer to the same unique *entity*."
      ],
      "metadata": {
        "id": "N9rJALdNy0fv"
      }
    },
    {
      "cell_type": "markdown",
      "source": [
        "The head of a mention can be approximated by the `root_index` attribute. The syntactic relation of the entire mention to the rest of the sentence is best captured by this root."
      ],
      "metadata": {
        "id": "E1Zm4yEmzYF0"
      }
    },
    {
      "cell_type": "code",
      "source": [
        "def print_coref_chains(doc):\n",
        "  for idx, chain in enumerate(doc._.coref_chains):\n",
        "    print(\"Cluster %s\" % idx)\n",
        "    for mention in chain:\n",
        "      start,end=mention[0], mention[-1]\n",
        "      text=doc[start:end+1]\n",
        "      # mention.root_index = the index of the spacy Token object that is the syntactic head of the mention (in a dependency tree)\n",
        "      root=doc[mention.root_index]\n",
        "\n",
        "      print(text, start, end, root, root.dep_, root.head)\n",
        "    print()"
      ],
      "metadata": {
        "id": "tlBAvj0QHIBk"
      },
      "execution_count": null,
      "outputs": []
    },
    {
      "cell_type": "code",
      "source": [
        "print_coref_chains(doc1)"
      ],
      "metadata": {
        "id": "iOjjJdnJ0V8F"
      },
      "execution_count": null,
      "outputs": []
    },
    {
      "cell_type": "markdown",
      "source": [
        "Now test the limits of spacy coreference. How does it fare on:\n",
        "\n",
        "- Winograd schema challenge questions?\n",
        "- long documents?\n",
        "- near-identity?\n",
        "\n",
        "Importantly, note that `coreferee` only marks coref chains that involve **two or more** mentions.  Singleton chains (involving only one mention) won't appear at all."
      ],
      "metadata": {
        "id": "ORiyfpBhzlh5"
      }
    },
    {
      "cell_type": "code",
      "source": [
        "doc2=nlp(\"The trophy would not fit in the brown suitcase because it was too big\")\n",
        "print_coref_chains(doc2)"
      ],
      "metadata": {
        "id": "cG6b_Qr9z9PH"
      },
      "execution_count": null,
      "outputs": []
    },
    {
      "cell_type": "code",
      "source": [
        "doc3=nlp(\"The town councilors refused to give the man a permit because they feared violence.\")\n",
        "print_coref_chains(doc3)"
      ],
      "metadata": {
        "id": "ih-thd490k81"
      },
      "execution_count": null,
      "outputs": []
    },
    {
      "cell_type": "code",
      "source": [
        "doc4=nlp(\"The town councilors refused to give the man a permit because they advocated violence.\")\n",
        "print_coref_chains(doc4)"
      ],
      "metadata": {
        "id": "cqGHzheI0thd"
      },
      "execution_count": null,
      "outputs": []
    }
  ]
}