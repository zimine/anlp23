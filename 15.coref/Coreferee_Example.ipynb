{
 "cells": [
  {
   "cell_type": "markdown",
   "metadata": {
    "id": "qmudcPW_02yH"
   },
   "source": [
    "This notebook explores coreference resolution in Spacy using the `coreferee` library."
   ]
  },
  {
   "cell_type": "code",
   "execution_count": null,
   "metadata": {
    "id": "xwLpsc0U-0fe"
   },
   "outputs": [],
   "source": [
    "!pip install spacy==3.2\n",
    "!python3 -m spacy download en_core_web_sm"
   ]
  },
  {
   "cell_type": "code",
   "execution_count": null,
   "metadata": {
    "id": "ZmrxSUyL-_xb"
   },
   "outputs": [],
   "source": [
    "!python3 -m pip install coreferee"
   ]
  },
  {
   "cell_type": "code",
   "execution_count": null,
   "metadata": {
    "id": "exgf827U_LAl"
   },
   "outputs": [],
   "source": [
    "!python3 -m coreferee install en"
   ]
  },
  {
   "cell_type": "code",
   "execution_count": null,
   "metadata": {
    "id": "_rPI8XW-_Oak"
   },
   "outputs": [],
   "source": [
    "import coreferee, spacy\n",
    "nlp = spacy.load('en_core_web_sm')\n",
    "nlp.add_pipe('coreferee')"
   ]
  },
  {
   "cell_type": "code",
   "execution_count": null,
   "metadata": {
    "id": "CceOaTrv_Z2-"
   },
   "outputs": [],
   "source": [
    "doc1 = nlp(\"Although he was very busy with his work, Peter had had enough of it. He and his wife decided they needed a holiday. They travelled to Spain because they loved the country very much.\")"
   ]
  },
  {
   "cell_type": "code",
   "execution_count": null,
   "metadata": {
    "id": "JFrEL8R3_a_G"
   },
   "outputs": [],
   "source": [
    "doc1._.coref_chains.print()"
   ]
  },
  {
   "cell_type": "markdown",
   "metadata": {
    "id": "N9rJALdNy0fv"
   },
   "source": [
    "Coreference clusters can be found in the `_.coref_chains` attribute of `doc`. `_.coref_chains` is a list of mention *clusters* -- each *mention* is a span of tokens in the text and a cluster of such mentions are those spans that co-refer to the same unique *entity*."
   ]
  },
  {
   "cell_type": "markdown",
   "metadata": {
    "id": "E1Zm4yEmzYF0"
   },
   "source": [
    "The head of a mention can be approximated by the `root_index` attribute. The syntactic relation of the entire mention to the rest of the sentence is best captured by this root."
   ]
  },
  {
   "cell_type": "code",
   "execution_count": null,
   "metadata": {
    "id": "tlBAvj0QHIBk"
   },
   "outputs": [],
   "source": [
    "def print_coref_chains(doc):\n",
    "  for idx, chain in enumerate(doc._.coref_chains):\n",
    "    print(\"Cluster %s\" % idx)\n",
    "    for mention in chain:\n",
    "      start,end=mention[0], mention[-1]\n",
    "      text=doc[start:end+1]\n",
    "      # mention.root_index = the index of the spacy Token object that is the syntactic head of the mention (in a dependency tree)\n",
    "      root=doc[mention.root_index]\n",
    "\n",
    "      print(text, start, end, root, root.dep_, root.head)\n",
    "    print()"
   ]
  },
  {
   "cell_type": "code",
   "execution_count": null,
   "metadata": {
    "id": "iOjjJdnJ0V8F"
   },
   "outputs": [],
   "source": [
    "print_coref_chains(doc1)"
   ]
  },
  {
   "cell_type": "markdown",
   "metadata": {
    "id": "ORiyfpBhzlh5"
   },
   "source": [
    "Now test the limits of spacy coreference. How does it fare on:\n",
    "\n",
    "- Winograd schema challenge questions?\n",
    "- long documents?\n",
    "- near-identity?\n",
    "\n",
    "Importantly, note that `coreferee` only marks coref chains that involve **two or more** mentions.  Singleton chains (involving only one mention) won't appear at all."
   ]
  },
  {
   "cell_type": "code",
   "execution_count": null,
   "metadata": {
    "id": "cG6b_Qr9z9PH"
   },
   "outputs": [],
   "source": [
    "doc2=nlp(\"The trophy would not fit in the brown suitcase because it was too big\")\n",
    "print_coref_chains(doc2)"
   ]
  },
  {
   "cell_type": "code",
   "execution_count": null,
   "metadata": {
    "id": "ih-thd490k81"
   },
   "outputs": [],
   "source": [
    "doc3=nlp(\"The town councilors refused to give the man a permit because they feared violence.\")\n",
    "print_coref_chains(doc3)"
   ]
  },
  {
   "cell_type": "code",
   "execution_count": null,
   "metadata": {
    "id": "cqGHzheI0thd"
   },
   "outputs": [],
   "source": [
    "doc4=nlp(\"The town councilors refused to give the man a permit because they advocated violence.\")\n",
    "print_coref_chains(doc4)"
   ]
  }
 ],
 "metadata": {
  "colab": {
   "provenance": []
  },
  "kernelspec": {
   "display_name": "Python 3 (ipykernel)",
   "language": "python",
   "name": "python3"
  },
  "language_info": {
   "codemirror_mode": {
    "name": "ipython",
    "version": 3
   },
   "file_extension": ".py",
   "mimetype": "text/x-python",
   "name": "python",
   "nbconvert_exporter": "python",
   "pygments_lexer": "ipython3",
   "version": "3.11.4"
  }
 },
 "nbformat": 4,
 "nbformat_minor": 4
}
