{
 "cells": [
  {
   "cell_type": "markdown",
   "metadata": {},
   "source": [
    "In this notebook we'll explore topic modeling to discover broad themes in a collection of movie summaries."
   ]
  },
  {
   "cell_type": "code",
   "execution_count": 1,
   "metadata": {},
   "outputs": [
    {
     "name": "stderr",
     "output_type": "stream",
     "text": [
      "[nltk_data] Downloading package stopwords to\n",
      "[nltk_data]     /Users/dbamman/nltk_data...\n",
      "[nltk_data]   Unzipping corpora/stopwords.zip.\n"
     ]
    }
   ],
   "source": [
    "import nltk\n",
    "import re\n",
    "import gensim\n",
    "from gensim import corpora\n",
    "import operator\n",
    "\n",
    "nltk.download('stopwords')\n",
    "from nltk.corpus import stopwords\n",
    "\n",
    "import numpy as np\n",
    "import random\n",
    "\n",
    "random.seed(1)"
   ]
  },
  {
   "cell_type": "code",
   "execution_count": 2,
   "metadata": {},
   "outputs": [],
   "source": [
    "def read_stopwords(filename):\n",
    "    stopwords={}\n",
    "    with open(filename) as file:\n",
    "        for line in file:\n",
    "            stopwords[line.rstrip()]=1\n",
    "    return stopwords"
   ]
  },
  {
   "cell_type": "markdown",
   "metadata": {},
   "source": [
    "Since we're running topic modeling on texts with lots of names, we'll add the Jockers list of stopwords (which includes character names) to our stoplist."
   ]
  },
  {
   "cell_type": "code",
   "execution_count": 3,
   "metadata": {},
   "outputs": [],
   "source": [
    "stop_words = {k:1 for k in stopwords.words('english')}\n",
    "stop_words.update(read_stopwords(\"../data/jockers.stopwords\"))\n",
    "stop_words[\"'s\"]=1\n",
    "stop_words=list(stop_words.keys())"
   ]
  },
  {
   "cell_type": "code",
   "execution_count": 4,
   "metadata": {},
   "outputs": [],
   "source": [
    "def filter(word, stopwords):\n",
    "    \n",
    "    \"\"\" Function to exclude words from a text \"\"\"\n",
    "    \n",
    "    # no stopwords\n",
    "    if word in stopwords:\n",
    "        return False\n",
    "    \n",
    "    # has to contain at least one letter\n",
    "    if re.search(\"[A-Za-z]\", word) is not None:\n",
    "        return True\n",
    "    \n",
    "    return False"
   ]
  },
  {
   "cell_type": "code",
   "execution_count": 5,
   "metadata": {},
   "outputs": [],
   "source": [
    "def read_docs(plotFile, metadataFile, stopwords):\n",
    "    \n",
    "    names={}\n",
    "    box={}\n",
    "    \n",
    "    with open(metadataFile, encoding=\"utf-8\") as file:\n",
    "        for line in file:\n",
    "            cols=line.rstrip().split(\"\\t\")\n",
    "            idd=cols[0]\n",
    "            name=cols[2]\n",
    "            boxoffice=cols[4]\n",
    "            if len(boxoffice) != 0:\n",
    "                box[idd]=int(boxoffice)\n",
    "                names[idd]=name\n",
    "    \n",
    "    n=5000\n",
    "    target_movies={}\n",
    "\n",
    "\n",
    "    sorted_box = sorted(box.items(), key=operator.itemgetter(1), reverse=True)\n",
    "    for k, v in sorted_box[:n]:\n",
    "        target_movies[k]=names[k]\n",
    "    \n",
    "    docs=[]\n",
    "    names=[]\n",
    "   \n",
    "    with open(plotFile, encoding=\"utf-8\") as file:\n",
    "        for line in file:\n",
    "            cols=line.rstrip().split(\"\\t\")\n",
    "            idd=cols[0]\n",
    "            text=cols[1]\n",
    "            \n",
    "            if idd in target_movies:\n",
    "                tokens=nltk.word_tokenize(text.lower())\n",
    "                tokens=[x for x in tokens if filter(x, stopwords)]\n",
    "                docs.append(tokens)\n",
    "                name=target_movies[idd]\n",
    "                names.append(name)\n",
    "    return docs, names"
   ]
  },
  {
   "cell_type": "markdown",
   "metadata": {},
   "source": [
    "We'll read in summaries of the 5,000 movies with the highest box office revenues."
   ]
  },
  {
   "cell_type": "code",
   "execution_count": 6,
   "metadata": {},
   "outputs": [],
   "source": [
    "metadataFile=\"../data/movie.metadata.tsv\"\n",
    "plotFile=\"../data/plot_summaries.txt\"\n",
    "data, doc_names=read_docs(plotFile, metadataFile, stop_words)"
   ]
  },
  {
   "cell_type": "markdown",
   "metadata": {},
   "source": [
    "We will convert the movie summaries into a bag-of-words representation using gensim's [corpora.dictionary](https://radimrehurek.com/gensim/corpora/dictionary.html) methods."
   ]
  },
  {
   "cell_type": "code",
   "execution_count": 7,
   "metadata": {},
   "outputs": [],
   "source": [
    "# Create vocab from data; restrict vocab to only the top 10K terms that show up in at least 5 documents \n",
    "# and no more than 50% of all documents\n",
    "\n",
    "dictionary = corpora.Dictionary(data)\n",
    "dictionary.filter_extremes(no_below=5, no_above=.5, keep_n=10000)"
   ]
  },
  {
   "cell_type": "code",
   "execution_count": 8,
   "metadata": {},
   "outputs": [],
   "source": [
    "# Replace dataset with numeric ids words in vocab (and exclude all other words)\n",
    "corpus = [dictionary.doc2bow(text) for text in data]"
   ]
  },
  {
   "cell_type": "code",
   "execution_count": 9,
   "metadata": {},
   "outputs": [],
   "source": [
    "num_topics=20"
   ]
  },
  {
   "cell_type": "markdown",
   "metadata": {},
   "source": [
    "Now let's run a topic model on this data using gensim's built-in LDA."
   ]
  },
  {
   "cell_type": "code",
   "execution_count": 10,
   "metadata": {},
   "outputs": [],
   "source": [
    "lda_model = gensim.models.ldamodel.LdaModel(corpus=corpus,\n",
    "                                           id2word=dictionary,\n",
    "                                           num_topics=num_topics, \n",
    "                                           passes=10,\n",
    "                                           alpha='auto')"
   ]
  },
  {
   "cell_type": "markdown",
   "metadata": {},
   "source": [
    "We can get a sense of what the topics are by printing the top 10 words with highest $P(word \\mid topic)$ for each topic"
   ]
  },
  {
   "cell_type": "code",
   "execution_count": 11,
   "metadata": {
    "scrolled": true
   },
   "outputs": [
    {
     "name": "stdout",
     "output_type": "stream",
     "text": [
      "topic 0:\tmiller shaw stu batman hood spirit gray dolls ring dent\n",
      "topic 1:\tcar money train police truck town gets away find station\n",
      "topic 2:\twhite mr. smith de snow curse mirror black magic apprentice\n",
      "topic 3:\tfilm kane company firm connor christmas stevens moore plant movie\n",
      "topic 4:\tfox dj rats rat angels finch hitler fairies malone bird\n",
      "topic 5:\thouse room find goes finds night door away tells runs\n",
      "topic 6:\twar army soldiers men general orders mission military camp killed\n",
      "topic 7:\tfather castle fight find village return battle named death city\n",
      "topic 8:\tduke dogs cooper team easy hayes sin dog fight caesar\n",
      "topic 9:\tdoc red penguins west circus toys horse la machine klein\n",
      "topic 10:\tearth dr. find alien escape human kill power city killed\n",
      "topic 11:\tpolice murder case killed death car gun kill detective killer\n",
      "topic 12:\trace satan murphy church phantom beck cardinal pope axel warden\n",
      "topic 13:\tkiller mrs. mask killed lake box kills kill collins find\n",
      "topic 14:\tband show music stage rock concert performance studio singer perform\n",
      "topic 15:\tfather mother tells life family time day finds film asks\n",
      "topic 16:\tship crew plane island boat captain water flight air aboard\n",
      "topic 17:\tschool game team high friends father time party play win\n",
      "topic 18:\tpresident united states world secret cia agents security government computer\n",
      "topic 19:\tmen kill bond agent fbi killed kills gang bomb agents\n"
     ]
    }
   ],
   "source": [
    "for i in range(num_topics):\n",
    "    print(\"topic %s:\\t%s\" % (i, ' '.join([term for term, freq in lda_model.show_topic(i, topn=10)])))"
   ]
  },
  {
   "cell_type": "markdown",
   "metadata": {},
   "source": [
    "Another way of understanding topics is to print out the documents that have the highest topic representation -- i.e., for a given topic $k$, the documents with highest $P(topic=k | document)$.  How much do the documents listed here align with your understanding of the topics?"
   ]
  },
  {
   "cell_type": "code",
   "execution_count": 12,
   "metadata": {},
   "outputs": [
    {
     "name": "stdout",
     "output_type": "stream",
     "text": [
      "miller shaw stu batman hood spirit gray dolls ring dent\n",
      "\n",
      "0\t0.889\tEyyvah Eyvah 2\n",
      "0\t0.294\tPhone Booth\n",
      "0\t0.249\tBatman Forever\n",
      "0\t0.243\tThe Manchurian Candidate\n",
      "0\t0.227\tThe Dark Knight\n",
      "\n",
      "car money train police truck town gets away find station\n",
      "\n",
      "1\t0.926\tThings Are Tough All Over\n",
      "1\t0.926\tRedline\n",
      "1\t0.883\tRat Race\n",
      "1\t0.865\tMoney Train\n",
      "1\t0.767\tGone in Sixty Seconds\n",
      "\n",
      "white mr. smith de snow curse mirror black magic apprentice\n",
      "\n",
      "2\t0.945\tMirror Mirror\n",
      "2\t0.721\tWhat's Up, Doc?\n",
      "2\t0.523\tSnow White and the Seven Dwarfs\n",
      "2\t0.509\tSpring, Summer, Fall, Winter... and Spring\n",
      "2\t0.495\tHarry Potter and the Deathly Hallows – Part 2\n",
      "\n",
      "film kane company firm connor christmas stevens moore plant movie\n",
      "\n",
      "3\t0.717\tWhat the #$*! Do We Know!?\n",
      "3\t0.584\tU2 3D\n",
      "3\t0.565\tGlee: The 3D Concert Movie\n",
      "3\t0.548\tNixon\n",
      "3\t0.536\tA Mighty Heart\n",
      "\n",
      "fox dj rats rat angels finch hitler fairies malone bird\n",
      "\n",
      "4\t0.579\tA Midsummer Night's Dream\n",
      "4\t0.243\tA Bug's Life\n",
      "4\t0.228\tSesame Street presents Follow That Bird\n",
      "4\t0.226\tThe Witches\n",
      "4\t0.212\tThe Tale of Despereaux\n",
      "\n",
      "house room find goes finds night door away tells runs\n",
      "\n",
      "5\t0.849\tMonster House\n",
      "5\t0.799\tParanormal Activity 4\n",
      "5\t0.780\tThe Collector\n",
      "5\t0.778\tThe 'Burbs\n",
      "5\t0.767\tParanormal Activity 3\n",
      "\n",
      "war army soldiers men general orders mission military camp killed\n",
      "\n",
      "6\t0.965\tThe Bridge on the River Kwai\n",
      "6\t0.950\tThe Thin Red Line\n",
      "6\t0.930\tWe Were Soldiers\n",
      "6\t0.909\tBlack Hawk Down\n",
      "6\t0.905\tEnemy at the Gates\n",
      "\n",
      "father castle fight find village return battle named death city\n",
      "\n",
      "7\t0.973\tDeathstalker\n",
      "7\t0.903\tDragonheart\n",
      "7\t0.881\tFearless\n",
      "7\t0.859\tApocalypto\n",
      "7\t0.857\tThe Sword in the Stone\n",
      "\n",
      "duke dogs cooper team easy hayes sin dog fight caesar\n",
      "\n",
      "8\t0.721\tGood Boy!\n",
      "8\t0.704\tInception\n",
      "8\t0.618\tThe Expendables\n",
      "8\t0.565\tMaverick\n",
      "8\t0.464\tDevil in a Blue Dress\n",
      "\n",
      "doc red penguins west circus toys horse la machine klein\n",
      "\n",
      "9\t0.686\tHappy Feet\n",
      "9\t0.606\tSanta Claus: The Movie\n",
      "9\t0.600\tBorn Yesterday\n",
      "9\t0.596\tTarzan, the Ape Man\n",
      "9\t0.568\tBaby: Secret of the Lost Legend\n",
      "\n",
      "earth dr. find alien escape human kill power city killed\n",
      "\n",
      "10\t0.940\tAlien: Resurrection\n",
      "10\t0.923\tThe Avengers\n",
      "10\t0.861\tAlien³\n",
      "10\t0.856\tBats\n",
      "10\t0.856\tLifeforce\n",
      "\n",
      "police murder case killed death car gun kill detective killer\n",
      "\n",
      "11\t0.926\tThe Wings of the Kirin\n",
      "11\t0.883\tBad Girls\n",
      "11\t0.876\tFreebie and The Bean\n",
      "11\t0.876\tGang Related\n",
      "11\t0.841\tShakedown\n",
      "\n",
      "race satan murphy church phantom beck cardinal pope axel warden\n",
      "\n",
      "12\t0.474\tBiker Boyz\n",
      "12\t0.436\tHerbie: Fully Loaded\n",
      "12\t0.393\tGrand Prix\n",
      "12\t0.386\tEnd of Days\n",
      "12\t0.384\tNarrow Margin\n",
      "\n",
      "killer mrs. mask killed lake box kills kill collins find\n",
      "\n",
      "13\t0.617\tScream 2\n",
      "13\t0.612\tOpen City\n",
      "13\t0.586\tThe Ice Harvest\n",
      "13\t0.566\tJerky Boys: The Movie\n",
      "13\t0.553\tUrban Legends: Final Cut\n",
      "\n",
      "band show music stage rock concert performance studio singer perform\n",
      "\n",
      "14\t0.904\tThe Country Bears\n",
      "14\t0.725\tDr. Dolittle 2\n",
      "14\t0.548\tThe Doors\n",
      "14\t0.517\tTenacious D in The Pick of Destiny\n",
      "14\t0.509\tCadillac Records\n",
      "\n",
      "father mother tells life family time day finds film asks\n",
      "\n",
      "15\t0.996\tThe Hours\n",
      "15\t0.996\tAlfie\n",
      "15\t0.995\tSomething Borrowed\n",
      "15\t0.995\tSomething's Gotta Give\n",
      "15\t0.995\tLast Night\n",
      "\n",
      "ship crew plane island boat captain water flight air aboard\n",
      "\n",
      "16\t0.754\tAirport 1975\n",
      "16\t0.745\tExecutive Decision\n",
      "16\t0.717\tThe High and the Mighty\n",
      "16\t0.649\tUnited 93\n",
      "16\t0.602\tTurbulence\n",
      "\n",
      "school game team high friends father time party play win\n",
      "\n",
      "17\t0.993\tNecessary Roughness\n",
      "17\t0.991\tAny Given Sunday\n",
      "17\t0.977\tBad News Bears\n",
      "17\t0.973\tThe Replacements\n",
      "17\t0.972\tVarsity Blues\n",
      "\n",
      "president united states world secret cia agents security government computer\n",
      "\n",
      "18\t0.895\tWithout a Clue\n",
      "18\t0.848\tFirst Family\n",
      "18\t0.643\tThe Amateur\n",
      "18\t0.605\tCasino Royale\n",
      "18\t0.579\tThe Recruit\n",
      "\n",
      "men kill bond agent fbi killed kills gang bomb agents\n",
      "\n",
      "19\t0.887\tAppaloosa\n",
      "19\t0.848\tRighteous Ties\n",
      "19\t0.819\tHalf Past Dead\n",
      "19\t0.698\tOnce Upon a Time in Mexico\n",
      "19\t0.692\tBandolero!\n",
      "\n"
     ]
    }
   ],
   "source": [
    "topic_model=lda_model \n",
    "\n",
    "topic_docs=[]\n",
    "for i in range(num_topics):\n",
    "    topic_docs.append({})\n",
    "for doc_id in range(len(corpus)):\n",
    "    doc_topics=topic_model.get_document_topics(corpus[doc_id])\n",
    "    for topic_num, topic_prob in doc_topics:\n",
    "        topic_docs[topic_num][doc_id]=topic_prob\n",
    "\n",
    "for i in range(num_topics):\n",
    "    print(\"%s\\n\" % ' '.join([term for term, freq in topic_model.show_topic(i, topn=10)]))\n",
    "    sorted_x = sorted(topic_docs[i].items(), key=operator.itemgetter(1), reverse=True)\n",
    "    for k, v in sorted_x[:5]:\n",
    "        print(\"%s\\t%.3f\\t%s\" % (i,v,doc_names[k]))\n",
    "    print()\n",
    "    \n",
    "    "
   ]
  },
  {
   "cell_type": "code",
   "execution_count": null,
   "metadata": {},
   "outputs": [],
   "source": []
  }
 ],
 "metadata": {
  "kernelspec": {
   "display_name": "Python 3 (ipykernel)",
   "language": "python",
   "name": "python3"
  },
  "language_info": {
   "codemirror_mode": {
    "name": "ipython",
    "version": 3
   },
   "file_extension": ".py",
   "mimetype": "text/x-python",
   "name": "python",
   "nbconvert_exporter": "python",
   "pygments_lexer": "ipython3",
   "version": "3.11.4"
  }
 },
 "nbformat": 4,
 "nbformat_minor": 2
}
