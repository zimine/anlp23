{
 "cells": [
  {
   "cell_type": "markdown",
   "id": "95f4c1b6",
   "metadata": {},
   "source": [
    "Exploratory data analysis is *exploratory* by nature, often used to get a sense of the content and structure of a dataset before diving into specific research questions.  For this homework, you have one task: tell us something interesting about a dataset using topic modeling. You are free to use any dataset (even those from Kaggle this time), but see sample datasets below:"
   ]
  },
  {
   "cell_type": "markdown",
   "id": "9a9dd854",
   "metadata": {},
   "source": [
    "* [CMU Book Summary Dataset](https://www.cs.cmu.edu/~dbamman/booksummaries.html)\n",
    "    * Metadata: Title, author, publication date, genre\n",
    "\n",
    "* [CMU Movie Summary Dataset](http://www.cs.cmu.edu/~ark/personas/)\n",
    "    * Metadata: Movie box office revenue, genre, release date, runtime, and language\n",
    "\n",
    "* [Large Movie Review Dataset](https://ai.stanford.edu/~amaas/data/sentiment/)\n",
    "    * Metadata: positive/negative sentiment\n",
    "    \n",
    "* [Congressional Speech Data](https://www.cs.cornell.edu/home/llee/data/convote.html)\n",
    "    * Metadata: political party\n",
    "    \n",
    "* [100K ArXiv abstracts](https://drive.google.com/file/d/1ThK1D9AstYI6s2Z7m9SmvLqLZPneMp12/view?usp=sharing)\n",
    "    * Metadata: ArXiv subject (e.g., math, physics, cs)"
   ]
  },
  {
   "cell_type": "markdown",
   "id": "0bc7969a",
   "metadata": {},
   "source": [
    "For any dataset, you'll have to understand the format in order to read in the textual part (and any metadata of interest); and then tokenize the text before passing it on to topic modeling.\n",
    "\n",
    "Refer to `4.eda/TopicModel.ipynb` for example code on how to work with topic models in gensim, and remember that we've considered several concepts already for characterizing differences across groups; feel free to draw on those as you see appropriate for this exploration."
   ]
  },
  {
   "cell_type": "markdown",
   "id": "89c4a717",
   "metadata": {},
   "source": [
    "A **check** submission will run topic modeling on the text of your chosen dataset and discuss the topics that emerge; a **check-plus** submission will relate variation in those topics to aspects of metadata (e.g., discussing interesting topical differences over time or between genre/political party, etc.).  In all cases, be sure to explain why what you have found is interesting."
   ]
  },
  {
   "cell_type": "code",
   "execution_count": null,
   "id": "1c7da541",
   "metadata": {},
   "outputs": [],
   "source": []
  }
 ],
 "metadata": {
  "kernelspec": {
   "display_name": "Python 3 (ipykernel)",
   "language": "python",
   "name": "python3"
  },
  "language_info": {
   "codemirror_mode": {
    "name": "ipython",
    "version": 3
   },
   "file_extension": ".py",
   "mimetype": "text/x-python",
   "name": "python",
   "nbconvert_exporter": "python",
   "pygments_lexer": "ipython3",
   "version": "3.11.4"
  }
 },
 "nbformat": 4,
 "nbformat_minor": 5
}
