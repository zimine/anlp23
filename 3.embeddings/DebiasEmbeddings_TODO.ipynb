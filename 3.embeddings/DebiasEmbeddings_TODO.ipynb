{
 "cells": [
  {
   "cell_type": "markdown",
   "id": "902a9eb8",
   "metadata": {},
   "source": [
    "In this homework, you will debias word embeddings using the method from [Bolukbasi et al. 2016](https://arxiv.org/abs/1607.06520) and interpreted through [Vargas and Cotterell 2020](https://arxiv.org/abs/2009.09435). "
   ]
  },
  {
   "cell_type": "code",
   "execution_count": 1,
   "id": "3a3169da",
   "metadata": {
    "tags": []
   },
   "outputs": [],
   "source": [
    "import re\n",
    "from gensim.models import KeyedVectors\n",
    "import numpy as np\n",
    "from sklearn.decomposition import PCA\n",
    "from sklearn.metrics.pairwise import cosine_similarity\n",
    "import matplotlib.pyplot as plt"
   ]
  },
  {
   "cell_type": "code",
   "execution_count": 2,
   "id": "31d7827f",
   "metadata": {
    "tags": []
   },
   "outputs": [],
   "source": [
    "glove = KeyedVectors.load_word2vec_format(\"../data/glove.6B.100d.100K.w2v.txt\", binary=False)"
   ]
  },
  {
   "cell_type": "code",
   "execution_count": 3,
   "id": "f9bb9ece",
   "metadata": {
    "tags": []
   },
   "outputs": [
    {
     "name": "stdout",
     "output_type": "stream",
     "text": [
      "(100,)\n",
      "[ 3.7293e-01  3.8503e-01  7.1086e-01 -6.5911e-01 -1.0128e-03  9.2715e-01\n",
      "  2.7615e-01 -5.6203e-02 -2.4294e-01  2.4632e-01 -1.8449e-01  3.1398e-01\n",
      "  4.8983e-01  9.2560e-02  3.2958e-01  1.5056e-01  5.7317e-01 -1.8529e-01\n",
      " -5.2277e-01  4.6191e-01  9.2038e-01  3.1001e-02 -1.6246e-01 -4.0567e-01\n",
      "  7.8621e-01  5.7722e-01 -5.3501e-01 -6.8228e-01  1.6987e-01  3.6310e-01\n",
      " -7.1773e-02  4.7233e-01  2.7806e-02 -1.4951e-01  1.7543e-01 -3.7573e-01\n",
      " -7.8517e-01  5.8171e-01  8.6859e-01  3.1445e-02 -4.5897e-01 -4.0917e-02\n",
      "  9.5897e-01 -1.6975e-01  1.3045e-01  2.7434e-01 -6.9485e-02  2.2402e-02\n",
      "  2.4977e-01 -2.1536e-01 -3.2406e-01 -3.9867e-01  6.8613e-01  1.7923e+00\n",
      " -3.7848e-01 -2.2477e+00 -7.7025e-01  4.6582e-01  1.2411e+00  5.7756e-01\n",
      "  4.1151e-01  8.4328e-01 -5.4259e-01 -1.6715e-01  7.3927e-01 -9.3477e-02\n",
      "  9.0278e-01  5.0889e-01 -5.0031e-01  2.6451e-01  1.5443e-01 -2.9432e-01\n",
      "  1.0906e-01 -2.6667e-01  3.5438e-01  4.9079e-02  1.8018e-01 -5.8590e-01\n",
      " -5.5542e-01 -2.8987e-01  7.4278e-01  3.4530e-01 -2.8757e-02 -2.2646e-01\n",
      " -1.3113e+00 -5.7190e-01 -5.2306e-01 -1.2670e-01 -9.8678e-02 -5.3463e-01\n",
      "  2.8607e-01 -3.7501e-01  4.5742e-01  4.5975e-02 -2.4675e-01  4.5656e-02\n",
      " -3.8302e-01 -9.3711e-01  3.9138e-02 -5.3911e-01]\n"
     ]
    }
   ],
   "source": [
    "# let's print one sample vector just to see what it looks like\n",
    "print(glove[\"man\"].shape)\n",
    "print(glove[\"man\"])"
   ]
  },
  {
   "cell_type": "markdown",
   "id": "932ca67b",
   "metadata": {},
   "source": [
    "Now let's calculate the cosine similarity of that vector (\"man\") with a set of other vectors (\"king\" and \"cabbage\").  This returns two cosine similarities, the first cos(man, king) and the second cos(man, cabbage)."
   ]
  },
  {
   "cell_type": "code",
   "execution_count": 4,
   "id": "dec789b1",
   "metadata": {
    "tags": []
   },
   "outputs": [
    {
     "data": {
      "text/plain": [
       "array([0.5118681 , 0.04780922], dtype=float32)"
      ]
     },
     "execution_count": 4,
     "metadata": {},
     "output_type": "execute_result"
    }
   ],
   "source": [
    "glove.cosine_similarities(glove[\"man\"], [glove[\"king\"], glove[\"cabbage\"]])"
   ]
  },
  {
   "cell_type": "markdown",
   "id": "4aea7941",
   "metadata": {},
   "source": [
    "Let's use that machinery to find the differences between \"man\" and \"woman\" and a set of target terms."
   ]
  },
  {
   "cell_type": "code",
   "execution_count": 5,
   "id": "26939690",
   "metadata": {
    "tags": []
   },
   "outputs": [
    {
     "name": "stdout",
     "output_type": "stream",
     "text": [
      "0.109\tmagician\n",
      "0.095\tmechanic\n",
      "0.082\tarchitect\n",
      "0.046\tactor\n",
      "0.035\tcook\n",
      "0.012\tchef\n",
      "-0.024\tdoctor\n",
      "-0.110\tlibrarian\n",
      "-0.154\tactress\n",
      "-0.158\tnurse\n"
     ]
    }
   ],
   "source": [
    "targets=[\"doctor\", \"nurse\", \"actor\", \"actress\", \"mechanic\", \"librarian\", \"architect\", \"magician\", \"cook\", \"chef\"]\n",
    "diffs={}\n",
    "for term in targets:\n",
    "    \n",
    "    m,w=glove.cosine_similarities(glove[term], [glove[\"man\"], glove[\"woman\"]])\n",
    "    diffs[term]=m-w\n",
    "\n",
    "for k, v in sorted(diffs.items(), key=lambda item: item[1], reverse=True):\n",
    "    print(\"%.3f\\t%s\" % (v,k))"
   ]
  },
  {
   "cell_type": "markdown",
   "id": "b6085ba0",
   "metadata": {},
   "source": [
    "We can see a gender difference here, where \"man\" is more aligned \"magician\" and \"mechanic\" and \"woman\" is more aligned with \"actress\" and \"nurse\"."
   ]
  },
  {
   "cell_type": "markdown",
   "id": "881bf91a",
   "metadata": {},
   "source": [
    "**Q1.** Let's debias those embeddings, using the method from [Bolukbasi et al. 2016](https://arxiv.org/abs/1607.06520) and interpreted through [Vargas and Cotterell 2020](https://arxiv.org/abs/2009.09435).  Debiasing embeddings requires two steps: finding the gender subspace and then subtracting the orthogonal projection onto that subspace from the original embedding.  Let's start with the first step: creating \"defining sets\" that capture the variation:\n",
    "\n",
    "$$\n",
    "D_1 = \\{man, woman\\}\\\\\n",
    "D_2 = \\{mr., mrs.\\}\n",
    "$$\n",
    "\n",
    "Following Vargas and Cotterell, we can find the gender subspace by constructing a new matrix $D'$ by substracting the embedding for a word in a defining set from the average of embeddings in that set. Using $e_{word}$ to denote the embedding for a word, this process would results in the following for the defining sets above:\n",
    "\n",
    "$$\n",
    "\\begin{bmatrix}\n",
    "e_{man} - \\textrm{mean}(e_{man},e_{woman}) \\\\\n",
    "e_{woman} - \\textrm{mean}(e_{man},e_{woman})\\\\\n",
    "e_{mr.} - \\textrm{mean}(e_{mr.},e_{mrs.})\\\\\n",
    "e_{mrs.} - \\textrm{mean}(e_{mr.},e_{mrs.})\\\\\n",
    "\\end{bmatrix}\n",
    "$$\n",
    "\n",
    "If the original embeddings (e.g., for $e_{man}$) are 100 dimensions (and so the mean over any set of embeddings is also 100 dimensions), then the resulting matrix $D'$ should be $4 \\times 100$.  Create this matrix $D'$ and name it `subspace_matrix`."
   ]
  },
  {
   "cell_type": "code",
   "execution_count": 6,
   "id": "d7abe9bd",
   "metadata": {
    "tags": []
   },
   "outputs": [],
   "source": [
    "D1=[\"man\", \"woman\"]\n",
    "D2=[\"mr.\", \"mrs.\"]\n",
    "\n",
    "# get the mean vector for each defining set   \n",
    "avg1 = np.mean([glove[term] for term in D1], axis=0)\n",
    "avg2 = np.mean([glove[term] for term in D2], axis=0)\n",
    "\n",
    "# get the diff between each word and the defining set\n",
    "diff1 = [glove[term] - avg1 for term in D1]\n",
    "diff2 = [glove[term] - avg2 for term in D2]\n",
    "\n",
    "# get the gender subspace \n",
    "subspace_matrix = np.asarray(diff1 + diff2)"
   ]
  },
  {
   "cell_type": "code",
   "execution_count": 7,
   "id": "b61373e3",
   "metadata": {
    "tags": []
   },
   "outputs": [
    {
     "name": "stdout",
     "output_type": "stream",
     "text": [
      "(4, 100)\n"
     ]
    }
   ],
   "source": [
    "# This should be (4,100)\n",
    "print(subspace_matrix.shape)"
   ]
  },
  {
   "cell_type": "markdown",
   "id": "6274b5c3",
   "metadata": {},
   "source": [
    "Step two is to run [PCA](https://en.wikipedia.org/wiki/Principal_component_analysis) over that `subspace_matrix` matrix.  The gender subspace in this example is the first principle component of that process. Here's how you run PCA on a random matrix to get the first principle component."
   ]
  },
  {
   "cell_type": "code",
   "execution_count": 8,
   "id": "ffc85869",
   "metadata": {
    "tags": []
   },
   "outputs": [
    {
     "name": "stdout",
     "output_type": "stream",
     "text": [
      "fake matrix:\n",
      "[[0.34964222 0.65382736 0.91272658]\n",
      " [0.08986586 0.05273594 0.6213597 ]\n",
      " [0.4471431  0.79695806 0.06589927]]\n",
      "first principle component:\n",
      "[ 0.31790408  0.64488868 -0.695022  ]\n"
     ]
    }
   ],
   "source": [
    "fake_matrix=np.random.rand(3,3)\n",
    "print(\"fake matrix:\")\n",
    "print(fake_matrix)\n",
    "\n",
    "# We only need one principle component, so we'll set n_components=1\n",
    "pca=PCA(n_components=1).fit(fake_matrix)\n",
    "subspace=pca.components_[0]\n",
    "\n",
    "print(\"first principle component:\")\n",
    "print(subspace)"
   ]
  },
  {
   "cell_type": "code",
   "execution_count": 9,
   "id": "b2f9c85b",
   "metadata": {
    "tags": []
   },
   "outputs": [
    {
     "name": "stdout",
     "output_type": "stream",
     "text": [
      "[ 0.31790408  0.64488868 -0.695022  ]\n",
      "[ 0.31790408  0.64488868 -0.695022  ]\n"
     ]
    }
   ],
   "source": [
    "# You'll see that this subspace is already normalized to unit length:\n",
    "print(subspace)\n",
    "print(subspace/np.sqrt(np.dot(subspace, subspace)))"
   ]
  },
  {
   "cell_type": "markdown",
   "id": "00b2c16c",
   "metadata": {},
   "source": [
    "**Q2.** Run PCA on that subspace matrix to get the subspace axis."
   ]
  },
  {
   "cell_type": "markdown",
   "id": "2462a09c",
   "metadata": {},
   "source": [
    "That subspace is the gender axis. You'll remember from class that we find the orthogoal projection of any unit-normalized vector $w$ onto a subspace $b$ by:\n",
    "\n",
    "$$\n",
    "w_b = \\textrm{dot}(w,b) \\; b\n",
    "$$\n",
    "\n",
    "If $b$ and $x$ are 100 dimensions, $w_b$ is 100 dimensions too.  The debiased vector $w_d$ is then simply $w - w_b$.  \n",
    "\n",
    "**Q3.** Debias the vectors for \"man\", \"woman\", and the targets used above (\"doctor\", \"nurse\", \"actor\", \"actress\", \"mechanic\", \"librarian\", \"architect\", \"magician\", \"cook\", \"chef\") and see if debiasing changes the differences between these terms and \"man\"/\"woman\" as noted above.  Glove embeddings are not normalized ahead of time, so be sure to normalize them before carrying out your projection (i.e., dividing vector v by $\\sqrt{\\textrm{dot}(v,v)}$).\n"
   ]
  },
  {
   "cell_type": "markdown",
   "id": "a22018d7",
   "metadata": {},
   "source": [
    "**check-plus**. Reflect in 100 words on the differences between this gender axis construction and the axis construction in SemAxis.  How are they different?"
   ]
  },
  {
   "cell_type": "code",
   "execution_count": 10,
   "id": "523d6a7b",
   "metadata": {
    "tags": []
   },
   "outputs": [],
   "source": [
    "# run PCA on the gender subspace\n",
    "pca=PCA(n_components=1).fit(subspace_matrix)\n",
    "gender=pca.components_[0]\n",
    "\n",
    "# include `man` and `woman` to the target list\n",
    "targets.extend([\"man\", \"woman\"])\n",
    "\n",
    "# get the normalized embedding vector for each term, keyed by the term \n",
    "norm = {term:(glove[term]/np.sqrt(np.dot(glove[term], glove[term]))) for term in targets}\n",
    "\n",
    "# subtracting the projection vector from its original embedding vector\n",
    "debiased = {k:(v-np.dot(v, gender)*gender) for k,v in norm.items()}"
   ]
  },
  {
   "cell_type": "code",
   "execution_count": 11,
   "id": "15db5001-aad6-4118-92b3-7f3d4e52473e",
   "metadata": {
    "tags": []
   },
   "outputs": [
    {
     "name": "stdout",
     "output_type": "stream",
     "text": [
      "0.109\tmagician\n",
      "0.095\tmechanic\n",
      "0.082\tarchitect\n",
      "0.046\tactor\n",
      "0.035\tcook\n",
      "0.012\tchef\n",
      "-0.024\tdoctor\n",
      "-0.110\tlibrarian\n",
      "-0.154\tactress\n",
      "-0.158\tnurse\n"
     ]
    },
    {
     "data": {
      "image/png": "[encoded data removed]",
      "text/plain": [
       "<Figure size 576x432 with 1 Axes>"
      ]
     },
     "metadata": {
      "needs_background": "light"
     },
     "output_type": "display_data"
    }
   ],
   "source": [
    "# plot the difference between each target term and man/woman\n",
    "\n",
    "targets=[\"doctor\", \"nurse\", \"actor\", \"actress\", \"mechanic\", \"librarian\", \"architect\", \"magician\", \"cook\", \"chef\"]\n",
    "diffs={}\n",
    "for term in targets:\n",
    "    \n",
    "    m,w=glove.cosine_similarities(glove[term], [glove[\"man\"], glove[\"woman\"]])\n",
    "    diffs[term]=m-w\n",
    "\n",
    "keys = []\n",
    "values = []\n",
    "for k, v in sorted(diffs.items(), key=lambda item: item[1], reverse=True):\n",
    "    print(\"%.3f\\t%s\" % (v,k))\n",
    "    keys.append(k)\n",
    "    values.append(v)\n",
    "\n",
    "plt.figure(figsize=(8, 6))  \n",
    "plt.barh(keys, values)\n",
    "plt.xlabel('Numbers')\n",
    "plt.title('Professions and Corresponding Numbers')\n",
    "plt.grid(axis='x', linestyle='--', alpha=0.6)\n",
    "plt.xlim(-0.2, 0.2)\n",
    "plt.show()"
   ]
  },
  {
   "cell_type": "code",
   "execution_count": 12,
   "id": "b4cb5058-bb33-4a47-80fb-d9b9c9b77c33",
   "metadata": {
    "tags": []
   },
   "outputs": [
    {
     "name": "stdout",
     "output_type": "stream",
     "text": [
      "0.041\tcook\n",
      "0.028\tmechanic\n",
      "0.026\tarchitect\n",
      "-0.002\tactor\n",
      "-0.004\tmagician\n",
      "-0.005\tnurse\n",
      "-0.024\tactress\n",
      "-0.024\tdoctor\n",
      "-0.026\tlibrarian\n",
      "-0.028\tchef\n"
     ]
    },
    {
     "data": {
      "image/png": "[encoded data removed]",
      "text/plain": [
       "<Figure size 576x432 with 1 Axes>"
      ]
     },
     "metadata": {
      "needs_background": "light"
     },
     "output_type": "display_data"
    }
   ],
   "source": [
    "# plot the difference between each target term and man/woman, after debiasing\n",
    "\n",
    "targets=[\"doctor\", \"nurse\", \"actor\", \"actress\", \"mechanic\", \"librarian\", \"architect\", \"magician\", \"cook\", \"chef\"]\n",
    "diffs={}\n",
    "for term in targets:\n",
    "    \n",
    "    m,w=glove.cosine_similarities(debiased[term], [norm[\"man\"], norm[\"woman\"]])\n",
    "    diffs[term]=m-w\n",
    "\n",
    "keys = []\n",
    "values = []\n",
    "for k, v in sorted(diffs.items(), key=lambda item: item[1], reverse=True):\n",
    "    print(\"%.3f\\t%s\" % (v,k))\n",
    "    keys.append(k)\n",
    "    values.append(v)\n",
    "\n",
    "plt.figure(figsize=(8, 6))  \n",
    "plt.barh(keys, values)\n",
    "plt.xlabel('Numbers')\n",
    "plt.title('Professions and Corresponding Numbers')\n",
    "plt.grid(axis='x', linestyle='--', alpha=0.6)\n",
    "plt.xlim(-0.2, 0.2)\n",
    "plt.show()"
   ]
  },
  {
   "cell_type": "markdown",
   "id": "d78d9b03-1c4b-474f-9219-45f897806f65",
   "metadata": {},
   "source": [
    "In general, debiasing via gender axis construction seems to work, as reflected in minimizing the distance between the target word embedding and the gender space. It actually works best for words that are most biased, such as `nurse` and `magician`, in which the gender information is almost completely erased. As for words that are not extremely biased, debiasing is not as effective. \n",
    "\n",
    "As for debiasing via SemAxis, judging only from cosine similarity scores, there's still biases that are not fully removed--the cosine similarity scores have more extreme numbers than the ones shown in the above plot. It feels to me more intuitive to decompose the emebdding vector into some subspace and the rest of everything else. As for SemAxis, it is sometimes difficult to control for the variation within the defining sets. When the defining sets contain multiple pairs of words, it is also more difficult to make sense of the commonality of these sets. "
   ]
  }
 ],
 "metadata": {
  "kernelspec": {
   "display_name": "Python 3 (ipykernel)",
   "language": "python",
   "name": "python3"
  },
  "language_info": {
   "codemirror_mode": {
    "name": "ipython",
    "version": 3
   },
   "file_extension": ".py",
   "mimetype": "text/x-python",
   "name": "python",
   "nbconvert_exporter": "python",
   "pygments_lexer": "ipython3",
   "version": "3.9.12"
  }
 },
 "nbformat": 4,
 "nbformat_minor": 5
}
