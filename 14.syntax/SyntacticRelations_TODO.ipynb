{
 "cells": [
  {
   "cell_type": "markdown",
   "metadata": {},
   "source": [
    "This notebook explores dependency parsing by identifying the actions and objects that are characteristically associated with male and female characters."
   ]
  },
  {
   "cell_type": "code",
   "execution_count": 1,
   "metadata": {},
   "outputs": [],
   "source": [
    "import spacy, math\n",
    "from collections import Counter\n",
    "import operator"
   ]
  },
  {
   "cell_type": "code",
   "execution_count": 2,
   "metadata": {},
   "outputs": [],
   "source": [
    "nlp = spacy.load('en_core_web_sm')"
   ]
  },
  {
   "cell_type": "markdown",
   "metadata": {},
   "source": [
    "We'll run seven novels by Jane Austen through spacy (this will take a few minutes)."
   ]
  },
  {
   "cell_type": "code",
   "execution_count": 5,
   "metadata": {},
   "outputs": [
    {
     "name": "stdout",
     "output_type": "stream",
     "text": [
      "../data/fiction/emma.txt\n",
      "../data/fiction/lady_susan.txt\n",
      "../data/fiction/mansfield_park.txt\n",
      "../data/fiction/northanger_abbey.txt\n",
      "../data/fiction/persuasion.txt\n",
      "../data/fiction/pride.txt\n",
      "../data/fiction/sense_and_sensibility.txt\n"
     ]
    }
   ],
   "source": [
    "filenames=[\"../data/fiction/emma.txt\", \"../data/fiction/lady_susan.txt\", \"../data/fiction/mansfield_park.txt\", \"../data/fiction/northanger_abbey.txt\", \"../data/fiction/persuasion.txt\", \"../data/fiction/pride.txt\", \"../data/fiction/sense_and_sensibility.txt\"]\n",
    "all_tokens=[]\n",
    "for filename in filenames:\n",
    "    print(filename)\n",
    "    data=open(filename, encoding=\"utf-8\").read()\n",
    "    tokens=nlp(data)\n",
    "    all_tokens.extend(tokens)"
   ]
  },
  {
   "cell_type": "code",
   "execution_count": null,
   "metadata": {},
   "outputs": [],
   "source": [
    "print (len(all_tokens))"
   ]
  },
  {
   "cell_type": "code",
   "execution_count": null,
   "metadata": {},
   "outputs": [],
   "source": [
    "def test(maleCounter, femaleCounter, display=25):\n",
    "    \n",
    "    \"\"\" Function that takes two Counter objects as inputs and prints out a ranked list of terms\n",
    "    more characteristic of the first counter than the second.  Here we'll use log-odds\n",
    "    with an uninformative prior (from Monroe et al 2008, \"Fightin Words\", eqn. 22) as our metric.\n",
    "    \n",
    "    \"\"\"\n",
    "    \n",
    "    vocab=dict(maleCounter) \n",
    "    vocab.update(dict(femaleCounter))\n",
    "    maleSum=sum(maleCounter.values())\n",
    "    femaleSum=sum(femaleCounter.values())\n",
    "\n",
    "    ranks={}\n",
    "    alpha=0.01\n",
    "    alphaV=len(vocab)*alpha\n",
    "        \n",
    "    for word in vocab:\n",
    "        \n",
    "        log_odds_ratio=math.log( (maleCounter[word] + alpha) / (maleSum+alphaV-maleCounter[word]-alpha) ) - math.log( (femaleCounter[word] + alpha) / (femaleSum+alphaV-femaleCounter[word]-alpha) )\n",
    "        variance=1./(maleCounter[word] + alpha) + 1./(femaleCounter[word] + alpha)\n",
    "        \n",
    "        ranks[word]=log_odds_ratio/math.sqrt(variance)\n",
    "\n",
    "    sorted_x = sorted(ranks.items(), key=operator.itemgetter(1), reverse=True)\n",
    "    \n",
    "    print(\"Most male:\")\n",
    "    for k,v in sorted_x[:display]:\n",
    "        print(\"%.3f\\t%s\" % (v,k))\n",
    "    \n",
    "    print(\"\\nMost female:\")\n",
    "    for k,v in reversed(sorted_x[-display:]):\n",
    "        print(\"%.3f\\t%s\" % (v,k))"
   ]
  },
  {
   "cell_type": "markdown",
   "metadata": {},
   "source": [
    "Spacy uses the [ClearNLP dependency labels](https://github.com/clir/clearnlp-guidelines/blob/master/md/specifications/dependency_labels.md), which are very close to the Stanford typed dependencies.  See the [Stanford dependencies manual](http://people.ischool.berkeley.edu/~dbamman/DependencyManual.pdf) for more information about each tag.  Parse information is contained in the spacy token object; see the following for which attributes encode the token text, idx (position in sentence), part of speech, and dependency relation.  The syntactic head for a token is another token given in `token.head` (where all of those same token attributes are accessible)."
   ]
  },
  {
   "cell_type": "code",
   "execution_count": null,
   "metadata": {},
   "outputs": [],
   "source": [
    "testDoc=nlp(\"He started his car.\")\n",
    "for token in testDoc:\n",
    "    print(\"%s\\t%s\\t%s\\t%s\\t%s\\t%s\\t%s\" % (token.text, token.idx, token.tag_, token.dep_, token.head.text, token.head.idx, token.head.tag_))\n"
   ]
  },
  {
   "cell_type": "markdown",
   "metadata": {},
   "source": [
    "Q1: Find the verbs that men are more characteristically the *subject* of than women.  Feel free to only consider subjects that are \"he\" and \"she\" pronouns.  This function should return two Counter objects (`maleCounter` and `femaleCounter`) which counts the number of times a given verb has \"he\" (`maleCounter`) and \"she\" (`femaleCounter`) as its syntactic subject."
   ]
  },
  {
   "cell_type": "code",
   "execution_count": null,
   "metadata": {},
   "outputs": [],
   "source": [
    "def count_subjects():\n",
    "    maleCounter=Counter()\n",
    "    femaleCounter=Counter()\n",
    "\n",
    "    # your code here\n",
    "    \n",
    "    return maleCounter, femaleCounter"
   ]
  },
  {
   "cell_type": "code",
   "execution_count": null,
   "metadata": {},
   "outputs": [],
   "source": [
    "male, female=count_subjects()\n",
    "test(male, female, display=10)"
   ]
  },
  {
   "cell_type": "markdown",
   "metadata": {},
   "source": [
    "Q2: Find the verbs that men are more characteristically the *object* of than women.  Feel free to only consider objects that are \"him\" and \"her\" pronouns.  This function should return two Counter objects (`maleCounter` and `femaleCounter`) which counts the number of times a given verb has \"he\" (`maleCounter`) and \"she\" (`femaleCounter`) as its syntactic direct object. "
   ]
  },
  {
   "cell_type": "code",
   "execution_count": null,
   "metadata": {},
   "outputs": [],
   "source": [
    "def count_objects():\n",
    "    maleCounter=Counter()\n",
    "    femaleCounter=Counter()\n",
    "\n",
    "    # your code here\n",
    "    \n",
    "    return maleCounter, femaleCounter"
   ]
  },
  {
   "cell_type": "code",
   "execution_count": null,
   "metadata": {
    "scrolled": true
   },
   "outputs": [],
   "source": [
    "male, female=count_objects()\n",
    "test(male, female, display=10)"
   ]
  },
  {
   "cell_type": "markdown",
   "metadata": {},
   "source": [
    "Q3: Find the objects that are *possessed* more frequently by men than women.  Feel free to only consider possessors that are \"his\" and \"her\" pronouns.   This function should return two Counter objects (`maleCounter` and `femaleCounter`) which counts the number of times a given term is possessed by \"he\" (`maleCounter`) and \"she\" (`femaleCounter`)."
   ]
  },
  {
   "cell_type": "code",
   "execution_count": null,
   "metadata": {},
   "outputs": [],
   "source": [
    "def count_possessions():\n",
    "    maleCounter=Counter()\n",
    "    femaleCounter=Counter()\n",
    "\n",
    "    # your code here\n",
    "    \n",
    "    return maleCounter, femaleCounter"
   ]
  },
  {
   "cell_type": "code",
   "execution_count": null,
   "metadata": {},
   "outputs": [],
   "source": [
    "male, female=count_possessions()\n",
    "test(male, female, display=10)"
   ]
  },
  {
   "cell_type": "markdown",
   "metadata": {},
   "source": [
    "Q4: Find the actions that are men do *to women* more frequently than women do *to men*.  Feel free to only consider subjects and objects that are \"she\"/\"he\"/\"her\"/\"him\" pronouns.   This function should return two Counter objects (`maleCounter` and `femaleCounter`) which counts the number of times a given verb has \"he\" as the subject and \"her\" as the object (`maleCounter`) and \"she\" as the subject and \"him\" as the object (`femaleCounter`)."
   ]
  },
  {
   "cell_type": "code",
   "execution_count": null,
   "metadata": {},
   "outputs": [],
   "source": [
    "def count_SVO_tuples():\n",
    "    maleCounter=Counter()\n",
    "    femaleCounter=Counter()\n",
    "\n",
    "    # your code here\n",
    "                \n",
    "    return maleCounter, femaleCounter"
   ]
  },
  {
   "cell_type": "code",
   "execution_count": null,
   "metadata": {},
   "outputs": [],
   "source": [
    "male, female=count_SVO_tuples()\n",
    "test(male, female, display=10)"
   ]
  }
 ],
 "metadata": {
  "kernelspec": {
   "display_name": "Python 3 (ipykernel)",
   "language": "python",
   "name": "python3"
  },
  "language_info": {
   "codemirror_mode": {
    "name": "ipython",
    "version": 3
   },
   "file_extension": ".py",
   "mimetype": "text/x-python",
   "name": "python",
   "nbconvert_exporter": "python",
   "pygments_lexer": "ipython3",
   "version": "3.11.4"
  }
 },
 "nbformat": 4,
 "nbformat_minor": 2
}
