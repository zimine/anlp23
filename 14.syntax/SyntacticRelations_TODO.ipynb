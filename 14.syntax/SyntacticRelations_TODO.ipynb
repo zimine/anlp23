{
 "cells": [
  {
   "cell_type": "markdown",
   "metadata": {},
   "source": [
    "This notebook explores dependency parsing by identifying the actions and objects that are characteristically associated with male and female characters."
   ]
  },
  {
   "cell_type": "code",
   "execution_count": 1,
   "metadata": {
    "tags": []
   },
   "outputs": [],
   "source": [
    "import spacy, math\n",
    "from collections import Counter\n",
    "import operator"
   ]
  },
  {
   "cell_type": "code",
   "execution_count": 2,
   "metadata": {
    "tags": []
   },
   "outputs": [],
   "source": [
    "nlp = spacy.load('en_core_web_sm')"
   ]
  },
  {
   "cell_type": "markdown",
   "metadata": {},
   "source": [
    "We'll run seven novels by Jane Austen through spacy (this will take a few minutes)."
   ]
  },
  {
   "cell_type": "code",
   "execution_count": 3,
   "metadata": {
    "tags": []
   },
   "outputs": [
    {
     "name": "stdout",
     "output_type": "stream",
     "text": [
      "../data/fiction/emma.txt\n",
      "../data/fiction/lady_susan.txt\n",
      "../data/fiction/mansfield_park.txt\n",
      "../data/fiction/northanger_abbey.txt\n",
      "../data/fiction/persuasion.txt\n",
      "../data/fiction/pride.txt\n",
      "../data/fiction/sense_and_sensibility.txt\n"
     ]
    }
   ],
   "source": [
    "filenames=[\"../data/fiction/emma.txt\", \"../data/fiction/lady_susan.txt\", \"../data/fiction/mansfield_park.txt\", \"../data/fiction/northanger_abbey.txt\", \"../data/fiction/persuasion.txt\", \"../data/fiction/pride.txt\", \"../data/fiction/sense_and_sensibility.txt\"]\n",
    "all_tokens=[]\n",
    "for filename in filenames:\n",
    "    print(filename)\n",
    "    data=open(filename, encoding=\"utf-8\").read()\n",
    "    tokens=nlp(data)\n",
    "    all_tokens.extend(tokens)"
   ]
  },
  {
   "cell_type": "code",
   "execution_count": 4,
   "metadata": {},
   "outputs": [
    {
     "name": "stdout",
     "output_type": "stream",
     "text": [
      "972810\n"
     ]
    }
   ],
   "source": [
    "print (len(all_tokens))"
   ]
  },
  {
   "cell_type": "code",
   "execution_count": 5,
   "metadata": {},
   "outputs": [],
   "source": [
    "def test(maleCounter, femaleCounter, display=25):\n",
    "    \n",
    "    \"\"\" Function that takes two Counter objects as inputs and prints out a ranked list of terms\n",
    "    more characteristic of the first counter than the second.  Here we'll use log-odds\n",
    "    with an uninformative prior (from Monroe et al 2008, \"Fightin Words\", eqn. 22) as our metric.\n",
    "    \n",
    "    \"\"\"\n",
    "    \n",
    "    vocab=dict(maleCounter) \n",
    "    vocab.update(dict(femaleCounter))\n",
    "    maleSum=sum(maleCounter.values())\n",
    "    femaleSum=sum(femaleCounter.values())\n",
    "\n",
    "    ranks={}\n",
    "    alpha=0.01\n",
    "    alphaV=len(vocab)*alpha\n",
    "        \n",
    "    for word in vocab:\n",
    "        \n",
    "        log_odds_ratio=math.log( (maleCounter[word] + alpha) / (maleSum+alphaV-maleCounter[word]-alpha) ) - math.log( (femaleCounter[word] + alpha) / (femaleSum+alphaV-femaleCounter[word]-alpha) )\n",
    "        variance=1./(maleCounter[word] + alpha) + 1./(femaleCounter[word] + alpha)\n",
    "        \n",
    "        ranks[word]=log_odds_ratio/math.sqrt(variance)\n",
    "\n",
    "    sorted_x = sorted(ranks.items(), key=operator.itemgetter(1), reverse=True)\n",
    "    \n",
    "    print(\"Most male:\")\n",
    "    for k,v in sorted_x[:display]:\n",
    "        print(\"%.3f\\t%s\" % (v,k))\n",
    "    \n",
    "    print(\"\\nMost female:\")\n",
    "    for k,v in reversed(sorted_x[-display:]):\n",
    "        print(\"%.3f\\t%s\" % (v,k))"
   ]
  },
  {
   "cell_type": "markdown",
   "metadata": {},
   "source": [
    "Spacy uses the [ClearNLP dependency labels](https://github.com/clir/clearnlp-guidelines/blob/master/md/specifications/dependency_labels.md), which are very close to the Stanford typed dependencies.  See the [Stanford dependencies manual](http://people.ischool.berkeley.edu/~dbamman/DependencyManual.pdf) for more information about each tag.  Parse information is contained in the spacy token object; see the following for which attributes encode the token text, idx (position in sentence), part of speech, and dependency relation.  The syntactic head for a token is another token given in `token.head` (where all of those same token attributes are accessible)."
   ]
  },
  {
   "cell_type": "code",
   "execution_count": 6,
   "metadata": {},
   "outputs": [
    {
     "name": "stdout",
     "output_type": "stream",
     "text": [
      "His\t0\tPRP$\tposs\thouse\t4\tNN\n",
      "house\t4\tNN\tnsubjpass\tdecorated\t20\tVBN\n",
      "is\t10\tVBZ\tauxpass\tdecorated\t20\tVBN\n",
      "nicely\t13\tRB\tadvmod\tdecorated\t20\tVBN\n",
      "decorated\t20\tVBN\tROOT\tdecorated\t20\tVBN\n",
      ".\t29\t.\tpunct\tdecorated\t20\tVBN\n"
     ]
    }
   ],
   "source": [
    "testDoc=nlp(\"His house is nicely decorated.\")\n",
    "for token in testDoc:\n",
    "    print(\"%s\\t%s\\t%s\\t%s\\t%s\\t%s\\t%s\" % (token.text, token.idx, token.tag_, token.dep_, token.head.text, token.head.idx, token.head.tag_))\n"
   ]
  },
  {
   "cell_type": "markdown",
   "metadata": {},
   "source": [
    "Q1: Find the verbs that men are more characteristically the *subject* of than women.  Feel free to only consider subjects that are \"he\" and \"she\" pronouns.  This function should return two Counter objects (`maleCounter` and `femaleCounter`) which counts the number of times a given verb has \"he\" (`maleCounter`) and \"she\" (`femaleCounter`) as its syntactic subject."
   ]
  },
  {
   "cell_type": "code",
   "execution_count": 7,
   "metadata": {},
   "outputs": [],
   "source": [
    "def count_subjects():\n",
    "    maleCounter=Counter()\n",
    "    femaleCounter=Counter()\n",
    "\n",
    "    for token in all_tokens:\n",
    "        if token.text in ['he', 'He'] and token.dep_ == 'nsubj' and token.head.tag_.startswith('VBD'):\n",
    "            maleCounter[token.head.text]+=1\n",
    "        elif token.text in ['she', 'She'] and token.dep_ == 'nsubj' and token.head.tag_.startswith('VBD'):\n",
    "            femaleCounter[token.head.text]+=1\n",
    "    \n",
    "    return maleCounter, femaleCounter"
   ]
  },
  {
   "cell_type": "code",
   "execution_count": 8,
   "metadata": {},
   "outputs": [
    {
     "name": "stdout",
     "output_type": "stream",
     "text": [
      "Most male:\n",
      "6.583\treplied\n",
      "5.794\tsaid\n",
      "5.454\tcame\n",
      "4.609\tseemed\n",
      "3.422\ttold\n",
      "3.128\tcontinued\n",
      "2.697\ttook\n",
      "2.552\tleft\n",
      "2.454\ttalked\n",
      "2.247\tasked\n",
      "\n",
      "Most female:\n",
      "-6.998\tfelt\n",
      "-4.810\tsaw\n",
      "-4.011\tfound\n",
      "-3.799\theard\n",
      "-3.793\tknew\n",
      "-3.303\tthought\n",
      "-2.395\tfeared\n",
      "-2.354\thad\n",
      "-2.182\thoped\n",
      "-2.164\tresolved\n"
     ]
    }
   ],
   "source": [
    "male, female=count_subjects()\n",
    "test(male, female, display=10)"
   ]
  },
  {
   "cell_type": "markdown",
   "metadata": {},
   "source": [
    "Q2: Find the verbs that men are more characteristically the *object* of than women.  Feel free to only consider objects that are \"him\" and \"her\" pronouns.  This function should return two Counter objects (`maleCounter` and `femaleCounter`) which counts the number of times a given verb has \"he\" (`maleCounter`) and \"she\" (`femaleCounter`) as its syntactic direct object. "
   ]
  },
  {
   "cell_type": "code",
   "execution_count": 9,
   "metadata": {},
   "outputs": [],
   "source": [
    "def count_objects():\n",
    "    maleCounter=Counter()\n",
    "    femaleCounter=Counter()\n",
    "    \n",
    "    for token in all_tokens:\n",
    "        if token.text in ['him', 'Him'] and token.dep_ == 'dobj' and token.head.tag_.startswith('VBD'):\n",
    "            maleCounter[token.head.text]+=1\n",
    "        elif token.text in ['her', 'Her'] and token.dep_ == 'dobj' and token.head.tag_.startswith('VBD'):\n",
    "            femaleCounter[token.head.text]+=1\n",
    "    \n",
    "    return maleCounter, femaleCounter"
   ]
  },
  {
   "cell_type": "code",
   "execution_count": 10,
   "metadata": {
    "scrolled": true
   },
   "outputs": [
    {
     "name": "stdout",
     "output_type": "stream",
     "text": [
      "Most male:\n",
      "2.869\tsaw\n",
      "2.583\tthanked\n",
      "2.459\tliked\n",
      "1.905\tbegged\n",
      "1.846\trecommended\n",
      "1.625\twished\n",
      "1.625\tunderstood\n",
      "1.535\tbelieved\n",
      "1.535\tkept\n",
      "1.418\tbrought\n",
      "\n",
      "Most female:\n",
      "-2.462\tleft\n",
      "-2.078\tstruck\n",
      "-1.921\tattended\n",
      "-1.750\tconvinced\n",
      "-1.601\tobliged\n",
      "-1.459\tjoined\n",
      "-1.225\tgave\n",
      "-1.044\tenabled\n",
      "-1.044\tpleased\n",
      "-0.861\tadvised\n"
     ]
    }
   ],
   "source": [
    "male, female=count_objects()\n",
    "test(male, female, display=10)"
   ]
  },
  {
   "cell_type": "markdown",
   "metadata": {},
   "source": [
    "Q3: Find the objects that are *possessed* more frequently by men than women.  Feel free to only consider possessors that are \"his\" and \"her\" pronouns.   This function should return two Counter objects (`maleCounter` and `femaleCounter`) which counts the number of times a given term is possessed by \"he\" (`maleCounter`) and \"she\" (`femaleCounter`)."
   ]
  },
  {
   "cell_type": "code",
   "execution_count": 11,
   "metadata": {},
   "outputs": [],
   "source": [
    "def count_possessions():\n",
    "    maleCounter=Counter()\n",
    "    femaleCounter=Counter()\n",
    "    \n",
    "    for token in all_tokens:\n",
    "        if token.text in ['his', 'His'] and token.dep_ == 'poss':\n",
    "            maleCounter[token.head.text]+=1\n",
    "        elif token.text in ['her', 'Her'] and token.dep_ == 'poss':\n",
    "            femaleCounter[token.head.text]+=1\n",
    "    \n",
    "    return maleCounter, femaleCounter"
   ]
  },
  {
   "cell_type": "code",
   "execution_count": 12,
   "metadata": {},
   "outputs": [
    {
     "name": "stdout",
     "output_type": "stream",
     "text": [
      "Most male:\n",
      "4.672\tsisters\n",
      "4.409\tattentions\n",
      "4.339\thouse\n",
      "4.280\treturn\n",
      "4.076\tname\n",
      "3.782\tattachment\n",
      "3.714\tson\n",
      "3.569\thorse\n",
      "3.511\tcharacter\n",
      "3.509\tmanners\n",
      "\n",
      "Most female:\n",
      "-7.276\tmother\n",
      "-6.382\tsister\n",
      "-4.541\teyes\n",
      "-4.444\taunt\n",
      "-4.069\tuncle\n",
      "-3.615\tspirits\n",
      "-3.615\theart\n",
      "-3.589\troom\n",
      "-3.196\tthoughts\n",
      "-3.129\tbrother\n"
     ]
    }
   ],
   "source": [
    "male, female=count_possessions()\n",
    "test(male, female, display=10)"
   ]
  },
  {
   "cell_type": "markdown",
   "metadata": {},
   "source": [
    "Q4: Find the actions that are men do *to women* more frequently than women do *to men*.  Feel free to only consider subjects and objects that are \"she\"/\"he\"/\"her\"/\"him\" pronouns.   This function should return two Counter objects (`maleCounter` and `femaleCounter`) which counts the number of times a given verb has \"he\" as the subject and \"her\" as the object (`maleCounter`) and \"she\" as the subject and \"him\" as the object (`femaleCounter`)."
   ]
  },
  {
   "cell_type": "code",
   "execution_count": 13,
   "metadata": {},
   "outputs": [],
   "source": [
    "def count_SVO_tuples():\n",
    "    maleCounter=Counter()\n",
    "    femaleCounter=Counter()\n",
    "\n",
    "    malesubj = []\n",
    "    femaleobj = []\n",
    "    for token in all_tokens:\n",
    "        if token.text in ['he', 'He'] and token.dep_ == 'nsubj' and token.head.tag_.startswith('VBD') and token.head.dep_ == 'ROOT':\n",
    "            malesubj.append((token.head.text, token.head.idx))\n",
    "        elif token.text in ['her', 'Her'] and token.dep_ == 'dobj' and token.head.tag_.startswith('VBD') and token.head.dep_ == 'ROOT':\n",
    "            femaleobj.append((token.head.text, token.head.idx))\n",
    "\n",
    "    maleobj = []\n",
    "    femalesubj = []\n",
    "    for token in all_tokens:\n",
    "        if token.text in ['she', 'She'] and token.dep_ == 'nsubj' and token.head.tag_.startswith('VBD') and token.head.dep_ == 'ROOT':\n",
    "            maleobj.append((token.head.text, token.head.idx))\n",
    "        elif token.text in ['him', 'Him'] and token.dep_ == 'dobj' and token.head.tag_.startswith('VBD') and token.head.dep_ == 'ROOT':\n",
    "            femalesubj.append((token.head.text, token.head.idx))\n",
    "    \n",
    "    for x in femaleobj:\n",
    "        if x in malesubj:\n",
    "            maleCounter[x[0]] += 1\n",
    "\n",
    "    for x in maleobj:\n",
    "        if x in femalesubj:\n",
    "            femaleCounter[x[0]] += 1\n",
    "    \n",
    "    return maleCounter, femaleCounter"
   ]
  },
  {
   "cell_type": "code",
   "execution_count": 14,
   "metadata": {},
   "outputs": [
    {
     "name": "stdout",
     "output_type": "stream",
     "text": [
      "Most male:\n",
      "1.203\tloved\n",
      "0.557\tknew\n",
      "0.557\tjoined\n",
      "0.557\tleft\n",
      "0.557\theard\n",
      "0.485\tcaught\n",
      "0.485\tcalled\n",
      "0.485\tshook\n",
      "0.485\tpraised\n",
      "0.485\tassisted\n",
      "\n",
      "Most female:\n",
      "-0.781\tfollowed\n",
      "-0.584\tsaw\n",
      "-0.510\tperceived\n",
      "-0.510\treceived\n",
      "-0.510\tliked\n",
      "-0.510\tassured\n",
      "-0.438\tcast\n",
      "-0.438\tmet\n",
      "-0.438\thated\n",
      "-0.438\tbegged\n"
     ]
    }
   ],
   "source": [
    "male, female=count_SVO_tuples()\n",
    "test(male, female, display=10)"
   ]
  }
 ],
 "metadata": {
  "kernelspec": {
   "display_name": "Python 3 (ipykernel)",
   "language": "python",
   "name": "python3"
  },
  "language_info": {
   "codemirror_mode": {
    "name": "ipython",
    "version": 3
   },
   "file_extension": ".py",
   "mimetype": "text/x-python",
   "name": "python",
   "nbconvert_exporter": "python",
   "pygments_lexer": "ipython3",
   "version": "3.11.4"
  }
 },
 "nbformat": 4,
 "nbformat_minor": 4
}
